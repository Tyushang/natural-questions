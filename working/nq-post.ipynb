{
 "cells": [
  {
   "cell_type": "markdown",
   "metadata": {},
   "source": [
    "# Refactor TensorFlow 2.0 - Bert Yes/No Answers\n",
    "## this post the refactor version of https://www.kaggle.com/mmmarchetti/tensorflow-2-0-bert-yes-no-answers\n",
    "## with little change on get_short_pred(), \n",
    "### Importing Libraries"
   ]
  },
  {
   "cell_type": "code",
   "execution_count": 1,
   "metadata": {
    "collapsed": false,
    "jupyter": {
     "outputs_hidden": false
    },
    "pycharm": {
     "is_executing": false,
     "name": "#%%\n"
    }
   },
   "outputs": [
    {
     "name": "stdout",
     "output_type": "stream",
     "text": [
      "{\n",
      "    \"attention_probs_dropout_prob\": 0.1,\n",
      "    \"hidden_act\": \"gelu\",\n",
      "    \"type_vocab_size\": 2,\n",
      "    \"max_position_embeddings\": 512,\n",
      "    \"initializer_range\": 0.02,\n",
      "    \"hidden_size\": 1024,\n",
      "    \"hidden_dropout_prob\": 0.1,\n",
      "    \"intermediate_size\": 4096,\n",
      "    \"num_attention_heads\": 16,\n",
      "    \"num_hidden_layers\": 24,\n",
      "    \"vocab_size\": 30522\n",
      "}\n",
      "total 1.3G\n",
      "-rw-r--r-- 1 jupyter jupyter  121 Jan 21 02:55 dataset-metadata.json\n",
      "-rw-r--r-- 1 jupyter jupyter   58 Jan 21 02:52 fingerprint.json\n",
      "-rw-r--r-- 1 jupyter jupyter 1.3G Jan 20 18:43 weights.h5\n",
      "{\n",
      "    \"message\": \"train 3 epoch\",\n",
      "    \"modify_time\": \"\"\n",
      "}\n"
     ]
    }
   ],
   "source": [
    "import os\n",
    "import sys\n",
    "\n",
    "import json\n",
    "import tensorflow as tf\n",
    "\n",
    "FLAGS = {\n",
    "   'skip_nested_contexts': True,\n",
    "   'max_position': 50,\n",
    "   'max_contexts': 48,\n",
    "   'max_query_length': 64,\n",
    "   'max_seq_length': 512,\n",
    "   'doc_stride': 128,\n",
    "   'include_unknowns': -1.0,\n",
    "   'n_best_size': 20,\n",
    "   'max_answer_length': 30,\n",
    "}\n",
    "F = FLAGS\n",
    "\n",
    "RUN_ON = 'kaggle' if os.path.exists('/kaggle') else 'gcp'\n",
    "# #### Configurations. change by user.\n",
    "if RUN_ON == 'gcp':\n",
    "    os.chdir('/home/jupyter/kaggle/working')\n",
    "    sys.path.extend(['../input/bert-joint-baseline/'])\n",
    "    INPUT_PATH = 'gs://tyu-kaggle/input/'\n",
    "    MODEL_LOAD_DIR = './bert_trained/'\n",
    "else:\n",
    "    INPUT_PATH = '../input/'\n",
    "    MODEL_LOAD_DIR = '../input/berttrained3/'\n",
    "\n",
    "# #### Configurations. No need to change.\n",
    "BERT_CONFIG_PATH = os.path.join(INPUT_PATH, 'bert-joint-baseline/bert_config.json')\n",
    "VOCAB_PATH = os.path.join(INPUT_PATH, 'bert-joint-baseline/vocab-nq.txt')\n",
    "\n",
    "NQ_TEST_JSONL_PATH = '../input/tensorflow2-question-answering/simplified-nq-test.jsonl'\n",
    "NQ_TRAIN_JSONL_PATH = '../input/tensorflow2-question-answering/simplified-nq-train.jsonl'\n",
    "SAMPLE_SUBMISSION_PATH = '../input/tensorflow2-question-answering/sample_submission.csv'\n",
    "# we pad example_id, so we must redo preprocess...\n",
    "NQ_TEST_TFRECORD_PATH = 'gs://tyu-kaggle/working/nq-test.tfrecords' if RUN_ON == 'gcp' else 'nq-test.tfrecords'\n",
    "\n",
    "MODEL_LOAD_PATH = MODEL_LOAD_DIR + 'weights.h5'\n",
    "CKPT_PATH = os.path.join(INPUT_PATH, 'bert-joint-baseline/model_cpkt-1')\n",
    "\n",
    "TEST_DS_TYPE = 'public' if os.path.getsize(NQ_TEST_JSONL_PATH) < 20000000 else 'private'\n",
    "\n",
    "SEQ_LENGTH = F['max_seq_length']  # bert_config['max_position_embeddings']\n",
    "\n",
    "ANSWER_TYPE_ORDER = ['UNKNOWN', 'YES', 'NO', 'SHORT', 'LONG']\n",
    "\n",
    "with tf.io.gfile.GFile(BERT_CONFIG_PATH, 'r') as f:\n",
    "    bert_config = json.load(f)\n",
    "print(json.dumps(bert_config, indent=4))\n",
    "\n",
    "!ls -lh $MODEL_LOAD_DIR\n",
    "!cat $MODEL_LOAD_DIR/fingerprint.json"
   ]
  },
  {
   "cell_type": "code",
   "execution_count": 2,
   "metadata": {
    "collapsed": false,
    "jupyter": {
     "outputs_hidden": false
    },
    "pycharm": {
     "is_executing": false,
     "name": "#%%\n"
    }
   },
   "outputs": [
    {
     "data": {
      "text/plain": [
       "'2.1.0'"
      ]
     },
     "execution_count": 2,
     "metadata": {},
     "output_type": "execute_result"
    }
   ],
   "source": [
    "import gzip\n",
    "\n",
    "import numpy as np\n",
    "import pandas as pd\n",
    "import tensorflow.keras.backend as K\n",
    "\n",
    "import bert_utils\n",
    "import modeling\n",
    "import tokenization\n",
    "\n",
    "from tqdm.auto import tqdm\n",
    "import importlib\n",
    "\n",
    "importlib.reload(bert_utils)\n",
    "K.clear_session()\n",
    "\n",
    "tf.__version__\n"
   ]
  },
  {
   "cell_type": "markdown",
   "metadata": {},
   "source": [
    "### Classes & Functions"
   ]
  },
  {
   "cell_type": "code",
   "execution_count": 3,
   "metadata": {
    "collapsed": false,
    "jupyter": {
     "outputs_hidden": false
    },
    "pycharm": {
     "is_executing": false,
     "name": "#%%\n"
    }
   },
   "outputs": [],
   "source": [
    "class TDense(tf.keras.layers.Layer):\n",
    "    def __init__(self,\n",
    "                 output_size,\n",
    "                 kernel_initializer=None,\n",
    "                 bias_initializer=\"zeros\",\n",
    "                 **kwargs):\n",
    "        super().__init__(**kwargs)\n",
    "        self.output_size = output_size\n",
    "        self.kernel_initializer = kernel_initializer\n",
    "        self.bias_initializer = bias_initializer\n",
    "\n",
    "    def build(self, input_shape):\n",
    "        dtype = tf.as_dtype(self.dtype or tf.keras.backend.floatx())\n",
    "        if not (dtype.is_floating or dtype.is_complex):\n",
    "            raise TypeError(\"Unable to build `TDense` layer with \"\n",
    "                            \"non-floating point (and non-complex) \"\n",
    "                            \"dtype %s\" % (dtype,))\n",
    "        input_shape = tf.TensorShape(input_shape)\n",
    "        if tf.compat.dimension_value(input_shape[-1]) is None:\n",
    "            raise ValueError(\"The last dimension of the inputs to \"\n",
    "                             \"`TDense` should be defined. \"\n",
    "                             \"Found `None`.\")\n",
    "        last_dim = tf.compat.dimension_value(input_shape[-1])\n",
    "        self.input_spec = tf.keras.layers.InputSpec(min_ndim=2, axes={-1: last_dim})\n",
    "        self.kernel = self.add_weight(\n",
    "            \"kernel\",\n",
    "            shape=[self.output_size, last_dim],\n",
    "            initializer=self.kernel_initializer,\n",
    "            dtype=self.dtype,\n",
    "            trainable=True)\n",
    "        self.bias = self.add_weight(\n",
    "            \"bias\",\n",
    "            shape=[self.output_size],\n",
    "            initializer=self.bias_initializer,\n",
    "            dtype=self.dtype,\n",
    "            trainable=True)\n",
    "        super(TDense, self).build(input_shape)\n",
    "\n",
    "    def call(self, x):\n",
    "        return tf.matmul(x, self.kernel, transpose_b=True) + self.bias\n",
    "\n",
    "\n",
    "class Squeeze(tf.keras.layers.Layer):\n",
    "    def call(self, x, axis=None, name=None):\n",
    "        return tf.squeeze(x, axis, name)\n",
    "\n",
    "\n",
    "def mk_model(config):\n",
    "    seq_len = config['max_position_embeddings']\n",
    "    unique_id = tf.keras.Input(shape=(1,), dtype=tf.int64, name='unique_id')\n",
    "    input_ids = tf.keras.Input(shape=(seq_len,), dtype=tf.int32, name='input_ids')\n",
    "    input_mask = tf.keras.Input(shape=(seq_len,), dtype=tf.int32, name='input_mask')\n",
    "    segment_ids = tf.keras.Input(shape=(seq_len,), dtype=tf.int32, name='segment_ids')\n",
    "    BERT = modeling.BertModel(config=config, name='bert')\n",
    "    pooled_output, sequence_output = BERT(input_word_ids=input_ids,\n",
    "                                          input_mask=input_mask,\n",
    "                                          input_type_ids=segment_ids)\n",
    "    logits = TDense(2, name='logits')(sequence_output)\n",
    "    start_logits, end_logits = tf.split(logits, axis=-1, num_or_size_splits=2, name='split')\n",
    "    start_logits = Squeeze(name='start_logits')(start_logits, axis=-1)\n",
    "    end_logits = Squeeze(name='end_logits')(end_logits, axis=-1)\n",
    "\n",
    "    ans_type = TDense(5, name='ans_type')(pooled_output)\n",
    "    return tf.keras.Model([input_ for input_ in [unique_id, input_ids, input_mask, segment_ids]\n",
    "                           if input_ is not None],\n",
    "                          [unique_id, start_logits, end_logits, ans_type],\n",
    "                          name='bert-baseline')"
   ]
  },
  {
   "cell_type": "code",
   "execution_count": null,
   "metadata": {
    "collapsed": false,
    "jupyter": {
     "outputs_hidden": false
    },
    "pycharm": {
     "is_executing": false,
     "name": "#%%\n"
    }
   },
   "outputs": [],
   "source": []
  },
  {
   "cell_type": "code",
   "execution_count": 4,
   "metadata": {
    "collapsed": false,
    "jupyter": {
     "outputs_hidden": false
    },
    "pycharm": {
     "is_executing": false,
     "name": "#%%\n"
    }
   },
   "outputs": [
    {
     "name": "stdout",
     "output_type": "stream",
     "text": [
      "Running on TPU  ['10.254.212.146:8470']\n",
      "INFO:tensorflow:Initializing the TPU system: tyu\n"
     ]
    },
    {
     "name": "stderr",
     "output_type": "stream",
     "text": [
      "INFO:tensorflow:Initializing the TPU system: tyu\n"
     ]
    },
    {
     "name": "stdout",
     "output_type": "stream",
     "text": [
      "INFO:tensorflow:Clearing out eager caches\n"
     ]
    },
    {
     "name": "stderr",
     "output_type": "stream",
     "text": [
      "INFO:tensorflow:Clearing out eager caches\n"
     ]
    },
    {
     "name": "stdout",
     "output_type": "stream",
     "text": [
      "INFO:tensorflow:Finished initializing TPU system.\n"
     ]
    },
    {
     "name": "stderr",
     "output_type": "stream",
     "text": [
      "INFO:tensorflow:Finished initializing TPU system.\n"
     ]
    },
    {
     "name": "stdout",
     "output_type": "stream",
     "text": [
      "INFO:tensorflow:Found TPU system:\n"
     ]
    },
    {
     "name": "stderr",
     "output_type": "stream",
     "text": [
      "INFO:tensorflow:Found TPU system:\n"
     ]
    },
    {
     "name": "stdout",
     "output_type": "stream",
     "text": [
      "INFO:tensorflow:*** Num TPU Cores: 8\n"
     ]
    },
    {
     "name": "stderr",
     "output_type": "stream",
     "text": [
      "INFO:tensorflow:*** Num TPU Cores: 8\n"
     ]
    },
    {
     "name": "stdout",
     "output_type": "stream",
     "text": [
      "INFO:tensorflow:*** Num TPU Workers: 1\n"
     ]
    },
    {
     "name": "stderr",
     "output_type": "stream",
     "text": [
      "INFO:tensorflow:*** Num TPU Workers: 1\n"
     ]
    },
    {
     "name": "stdout",
     "output_type": "stream",
     "text": [
      "INFO:tensorflow:*** Num TPU Cores Per Worker: 8\n"
     ]
    },
    {
     "name": "stderr",
     "output_type": "stream",
     "text": [
      "INFO:tensorflow:*** Num TPU Cores Per Worker: 8\n"
     ]
    },
    {
     "name": "stdout",
     "output_type": "stream",
     "text": [
      "INFO:tensorflow:*** Available Device: _DeviceAttributes(/job:localhost/replica:0/task:0/device:CPU:0, CPU, 0, 0)\n"
     ]
    },
    {
     "name": "stderr",
     "output_type": "stream",
     "text": [
      "INFO:tensorflow:*** Available Device: _DeviceAttributes(/job:localhost/replica:0/task:0/device:CPU:0, CPU, 0, 0)\n"
     ]
    },
    {
     "name": "stdout",
     "output_type": "stream",
     "text": [
      "INFO:tensorflow:*** Available Device: _DeviceAttributes(/job:localhost/replica:0/task:0/device:XLA_CPU:0, XLA_CPU, 0, 0)\n"
     ]
    },
    {
     "name": "stderr",
     "output_type": "stream",
     "text": [
      "INFO:tensorflow:*** Available Device: _DeviceAttributes(/job:localhost/replica:0/task:0/device:XLA_CPU:0, XLA_CPU, 0, 0)\n"
     ]
    },
    {
     "name": "stdout",
     "output_type": "stream",
     "text": [
      "INFO:tensorflow:*** Available Device: _DeviceAttributes(/job:worker/replica:0/task:0/device:CPU:0, CPU, 0, 0)\n"
     ]
    },
    {
     "name": "stderr",
     "output_type": "stream",
     "text": [
      "INFO:tensorflow:*** Available Device: _DeviceAttributes(/job:worker/replica:0/task:0/device:CPU:0, CPU, 0, 0)\n"
     ]
    },
    {
     "name": "stdout",
     "output_type": "stream",
     "text": [
      "INFO:tensorflow:*** Available Device: _DeviceAttributes(/job:worker/replica:0/task:0/device:TPU:0, TPU, 0, 0)\n"
     ]
    },
    {
     "name": "stderr",
     "output_type": "stream",
     "text": [
      "INFO:tensorflow:*** Available Device: _DeviceAttributes(/job:worker/replica:0/task:0/device:TPU:0, TPU, 0, 0)\n"
     ]
    },
    {
     "name": "stdout",
     "output_type": "stream",
     "text": [
      "INFO:tensorflow:*** Available Device: _DeviceAttributes(/job:worker/replica:0/task:0/device:TPU:1, TPU, 0, 0)\n"
     ]
    },
    {
     "name": "stderr",
     "output_type": "stream",
     "text": [
      "INFO:tensorflow:*** Available Device: _DeviceAttributes(/job:worker/replica:0/task:0/device:TPU:1, TPU, 0, 0)\n"
     ]
    },
    {
     "name": "stdout",
     "output_type": "stream",
     "text": [
      "INFO:tensorflow:*** Available Device: _DeviceAttributes(/job:worker/replica:0/task:0/device:TPU:2, TPU, 0, 0)\n"
     ]
    },
    {
     "name": "stderr",
     "output_type": "stream",
     "text": [
      "INFO:tensorflow:*** Available Device: _DeviceAttributes(/job:worker/replica:0/task:0/device:TPU:2, TPU, 0, 0)\n"
     ]
    },
    {
     "name": "stdout",
     "output_type": "stream",
     "text": [
      "INFO:tensorflow:*** Available Device: _DeviceAttributes(/job:worker/replica:0/task:0/device:TPU:3, TPU, 0, 0)\n"
     ]
    },
    {
     "name": "stderr",
     "output_type": "stream",
     "text": [
      "INFO:tensorflow:*** Available Device: _DeviceAttributes(/job:worker/replica:0/task:0/device:TPU:3, TPU, 0, 0)\n"
     ]
    },
    {
     "name": "stdout",
     "output_type": "stream",
     "text": [
      "INFO:tensorflow:*** Available Device: _DeviceAttributes(/job:worker/replica:0/task:0/device:TPU:4, TPU, 0, 0)\n"
     ]
    },
    {
     "name": "stderr",
     "output_type": "stream",
     "text": [
      "INFO:tensorflow:*** Available Device: _DeviceAttributes(/job:worker/replica:0/task:0/device:TPU:4, TPU, 0, 0)\n"
     ]
    },
    {
     "name": "stdout",
     "output_type": "stream",
     "text": [
      "INFO:tensorflow:*** Available Device: _DeviceAttributes(/job:worker/replica:0/task:0/device:TPU:5, TPU, 0, 0)\n"
     ]
    },
    {
     "name": "stderr",
     "output_type": "stream",
     "text": [
      "INFO:tensorflow:*** Available Device: _DeviceAttributes(/job:worker/replica:0/task:0/device:TPU:5, TPU, 0, 0)\n"
     ]
    },
    {
     "name": "stdout",
     "output_type": "stream",
     "text": [
      "INFO:tensorflow:*** Available Device: _DeviceAttributes(/job:worker/replica:0/task:0/device:TPU:6, TPU, 0, 0)\n"
     ]
    },
    {
     "name": "stderr",
     "output_type": "stream",
     "text": [
      "INFO:tensorflow:*** Available Device: _DeviceAttributes(/job:worker/replica:0/task:0/device:TPU:6, TPU, 0, 0)\n"
     ]
    },
    {
     "name": "stdout",
     "output_type": "stream",
     "text": [
      "INFO:tensorflow:*** Available Device: _DeviceAttributes(/job:worker/replica:0/task:0/device:TPU:7, TPU, 0, 0)\n"
     ]
    },
    {
     "name": "stderr",
     "output_type": "stream",
     "text": [
      "INFO:tensorflow:*** Available Device: _DeviceAttributes(/job:worker/replica:0/task:0/device:TPU:7, TPU, 0, 0)\n"
     ]
    },
    {
     "name": "stdout",
     "output_type": "stream",
     "text": [
      "INFO:tensorflow:*** Available Device: _DeviceAttributes(/job:worker/replica:0/task:0/device:TPU_SYSTEM:0, TPU_SYSTEM, 0, 0)\n"
     ]
    },
    {
     "name": "stderr",
     "output_type": "stream",
     "text": [
      "INFO:tensorflow:*** Available Device: _DeviceAttributes(/job:worker/replica:0/task:0/device:TPU_SYSTEM:0, TPU_SYSTEM, 0, 0)\n"
     ]
    },
    {
     "name": "stdout",
     "output_type": "stream",
     "text": [
      "INFO:tensorflow:*** Available Device: _DeviceAttributes(/job:worker/replica:0/task:0/device:XLA_CPU:0, XLA_CPU, 0, 0)\n"
     ]
    },
    {
     "name": "stderr",
     "output_type": "stream",
     "text": [
      "INFO:tensorflow:*** Available Device: _DeviceAttributes(/job:worker/replica:0/task:0/device:XLA_CPU:0, XLA_CPU, 0, 0)\n"
     ]
    },
    {
     "name": "stdout",
     "output_type": "stream",
     "text": [
      "REPLICAS:  8\n"
     ]
    }
   ],
   "source": [
    "# Detect hardware, return appropriate distribution strategy\n",
    "try:\n",
    "    TPU = tf.distribute.cluster_resolver.TPUClusterResolver()  # TPU detection\n",
    "    print('Running on TPU ', TPU.cluster_spec().as_dict()['worker'])\n",
    "except ValueError:\n",
    "    TPU = None\n",
    "\n",
    "if TPU:\n",
    "    tf.config.experimental_connect_to_cluster(TPU)\n",
    "    tf.tpu.experimental.initialize_tpu_system(TPU)\n",
    "    strategy = tf.distribute.experimental.TPUStrategy(TPU)\n",
    "    BATCH_SIZE = 64\n",
    "    # drop_remainder must be True if running on TPU, maybe a bug\n",
    "    # so we pad some examples.\n",
    "    nq_test_jsonl_path2 = NQ_TEST_JSONL_PATH + '.pad'\n",
    "    !cp $NQ_TEST_JSONL_PATH $nq_test_jsonl_path2\n",
    "    !tail -n 3 $NQ_TEST_JSONL_PATH >> $nq_test_jsonl_path2\n",
    "    NQ_TEST_JSONL_PATH = nq_test_jsonl_path2\n",
    "else:\n",
    "    strategy = tf.distribute.get_strategy()\n",
    "    BATCH_SIZE = 16\n",
    "\n",
    "print(\"REPLICAS: \", strategy.num_replicas_in_sync)"
   ]
  },
  {
   "cell_type": "code",
   "execution_count": 5,
   "metadata": {
    "collapsed": false,
    "jupyter": {
     "outputs_hidden": false
    },
    "pycharm": {
     "is_executing": false,
     "name": "#%%\n"
    }
   },
   "outputs": [
    {
     "name": "stdout",
     "output_type": "stream",
     "text": [
      "Model: \"bert-baseline\"\n",
      "__________________________________________________________________________________________________\n",
      "Layer (type)                    Output Shape         Param #     Connected to                     \n",
      "==================================================================================================\n",
      "input_ids (InputLayer)          [(None, 512)]        0                                            \n",
      "__________________________________________________________________________________________________\n",
      "input_mask (InputLayer)         [(None, 512)]        0                                            \n",
      "__________________________________________________________________________________________________\n",
      "segment_ids (InputLayer)        [(None, 512)]        0                                            \n",
      "__________________________________________________________________________________________________\n",
      "bert (BertModel)                ((None, 1024), (None 335141888   input_ids[0][0]                  \n",
      "                                                                 input_mask[0][0]                 \n",
      "                                                                 segment_ids[0][0]                \n",
      "__________________________________________________________________________________________________\n",
      "logits (TDense)                 (None, 512, 2)       2050        bert[0][1]                       \n",
      "__________________________________________________________________________________________________\n",
      "tf_op_layer_split (TensorFlowOp [(None, 512, 1), (No 0           logits[0][0]                     \n",
      "__________________________________________________________________________________________________\n",
      "unique_id (InputLayer)          [(None, 1)]          0                                            \n",
      "__________________________________________________________________________________________________\n",
      "start_logits (Squeeze)          (None, 512)          0           tf_op_layer_split[0][0]          \n",
      "__________________________________________________________________________________________________\n",
      "end_logits (Squeeze)            (None, 512)          0           tf_op_layer_split[0][1]          \n",
      "__________________________________________________________________________________________________\n",
      "ans_type (TDense)               (None, 5)            5125        bert[0][0]                       \n",
      "==================================================================================================\n",
      "Total params: 335,149,063\n",
      "Trainable params: 335,149,063\n",
      "Non-trainable params: 0\n",
      "__________________________________________________________________________________________________\n"
     ]
    }
   ],
   "source": [
    "with strategy.scope():\n",
    "    model = mk_model(bert_config)\n",
    "    model.summary()\n",
    "    cpkt = tf.train.Checkpoint(model=model)\n",
    "    cpkt.restore(CKPT_PATH).assert_consumed()"
   ]
  },
  {
   "cell_type": "code",
   "execution_count": 6,
   "metadata": {
    "collapsed": false,
    "jupyter": {
     "outputs_hidden": false
    },
    "pycharm": {
     "is_executing": false,
     "name": "#%%\n"
    }
   },
   "outputs": [],
   "source": [
    "def url_exists(url):\n",
    "    \"\"\"test local or gs file exists or not.\"\"\"\n",
    "    from urllib import parse\n",
    "    res = parse.urlparse(url)\n",
    "    if res.scheme == 'gs':\n",
    "        # blob_name has no '/' prefix\n",
    "        bucket_name, blob_name = res.netloc, res.path[1:]\n",
    "        from google.cloud import storage\n",
    "        storage_client = storage.Client()\n",
    "        bucket = storage_client.get_bucket(bucket_name)\n",
    "        blob = bucket.blob(blob_name)\n",
    "        return blob.exists()\n",
    "    else:\n",
    "        return os.path.exists(res.path)\n",
    "\n",
    "\n",
    "FEATURE_DESCRIPTION = {\n",
    "    #     \"example_id\": tf.io.FixedLenFeature([], tf.int64),\n",
    "    \"unique_id\": tf.io.FixedLenFeature([], tf.int64),\n",
    "    \"input_ids\": tf.io.FixedLenFeature([SEQ_LENGTH], tf.int64),\n",
    "    \"input_mask\": tf.io.FixedLenFeature([SEQ_LENGTH], tf.int64),\n",
    "    \"segment_ids\": tf.io.FixedLenFeature([SEQ_LENGTH], tf.int64),\n",
    "}\n",
    "def _decode_record(record, feature_description=None):\n",
    "    \"\"\"Decodes a record to a TensorFlow example.\"\"\"\n",
    "    feature_description = feature_description or FEATURE_DESCRIPTION\n",
    "    example = tf.io.parse_single_example(serialized=record, features=feature_description)\n",
    "    # tf.Example only supports tf.int64, but the TPU only supports tf.int32.\n",
    "    # So cast all int64 to int32.\n",
    "    for key in [k for k in example.keys() if k not in ['example_id', 'unique_id']]:\n",
    "        example[key] = tf.cast(example[key], dtype=tf.int32)\n",
    "\n",
    "    #     example.pop('example_id')\n",
    "    return example"
   ]
  },
  {
   "cell_type": "code",
   "execution_count": 7,
   "metadata": {
    "collapsed": false,
    "jupyter": {
     "outputs_hidden": false
    },
    "pycharm": {
     "is_executing": false,
     "name": "#%%\n"
    }
   },
   "outputs": [
    {
     "name": "stdout",
     "output_type": "stream",
     "text": [
      "Reading: ../input/tensorflow2-question-answering/simplified-nq-test.jsonl.pad\n"
     ]
    },
    {
     "data": {
      "application/vnd.jupyter.widget-view+json": {
       "model_id": "6ea8e1008fd94eeaa5a4628f142fa6c0",
       "version_major": 2,
       "version_minor": 0
      },
      "text/plain": [
       "HBox(children=(FloatProgress(value=1.0, bar_style='info', max=1.0), HTML(value='')))"
      ]
     },
     "metadata": {},
     "output_type": "display_data"
    },
    {
     "name": "stdout",
     "output_type": "stream",
     "text": [
      "\n",
      "number of test examples: 9090, written to file: 9090\n"
     ]
    }
   ],
   "source": [
    "if not url_exists(NQ_TEST_TFRECORD_PATH):\n",
    "    # tf2baseline.F.max_seq_length = 512\n",
    "    eval_writer = bert_utils.FeatureWriter(filename=NQ_TEST_TFRECORD_PATH,\n",
    "                                           is_training=False)\n",
    "    tokenizer = tokenization.FullTokenizer(vocab_file=VOCAB_PATH,\n",
    "                                           do_lower_case=True)\n",
    "    features = []\n",
    "    convert = bert_utils.ConvertExamples2Features(tokenizer=tokenizer,\n",
    "                                                  is_training=False,\n",
    "                                                  output_fn=eval_writer.process_feature,\n",
    "                                                  collect_stat=False)\n",
    "    n_examples = 0\n",
    "    # tqdm_notebook = tqdm.tqdm_notebook  # if not on_kaggle_server else None\n",
    "    for examples in bert_utils.nq_examples_iter(input_file=NQ_TEST_JSONL_PATH,\n",
    "                                                is_training=False,\n",
    "                                                tqdm=tqdm):\n",
    "        for example in examples:\n",
    "            n_examples += convert(example)\n",
    "    eval_writer.close()\n",
    "    print('number of test examples: %d, written to file: %d' % (n_examples, eval_writer.num_features))"
   ]
  },
  {
   "cell_type": "code",
   "execution_count": 8,
   "metadata": {
    "collapsed": false,
    "jupyter": {
     "outputs_hidden": false
    },
    "pycharm": {
     "is_executing": false,
     "name": "#%%\n"
    }
   },
   "outputs": [
    {
     "name": "stdout",
     "output_type": "stream",
     "text": [
      "    142/Unknown - 38s 267ms/step"
     ]
    }
   ],
   "source": [
    "raw_ds = tf.data.TFRecordDataset(NQ_TEST_TFRECORD_PATH)\n",
    "decoded_ds = raw_ds.map(_decode_record)\n",
    "batched_ds = decoded_ds.batch(batch_size=BATCH_SIZE, drop_remainder=(TPU is not None))\n",
    "\n",
    "result = model.predict(batched_ds, verbose=1)"
   ]
  },
  {
   "cell_type": "code",
   "execution_count": 9,
   "metadata": {
    "collapsed": false,
    "jupyter": {
     "outputs_hidden": false
    },
    "pycharm": {
     "is_executing": false,
     "name": "#%%\n"
    }
   },
   "outputs": [],
   "source": [
    "# add example_id to beginning.\n",
    "example_id_ds = raw_ds.map(lambda x: tf.io.parse_single_example(\n",
    "    serialized=x,\n",
    "    features={\"example_id\": tf.io.FixedLenFeature([], tf.int64)}\n",
    ")['example_id'])\n",
    "result = (np.array(list(example_id_ds)[:len(result[0])]), *result)"
   ]
  },
  {
   "cell_type": "markdown",
   "metadata": {
    "pycharm": {
     "is_executing": false,
     "name": "#%% md\n"
    }
   },
   "source": [
    "## 1- Understanding the code\n",
    "#### For a better understanding, I will briefly explain here.\n",
    "#### In the item \"answer_type\", in the last lines of this block, it is responsible for storing the identified response type, which, according to [github project repository](https://github.com/google-research/language/blob/master/language/question_answering/bert_joint/run_nq.py) can be:\n",
    "UNKNOWN = 0\n",
    "YES = 1\n",
    "NO = 2\n",
    "SHORT = 3\n",
    "LONG = 4\n"
   ]
  },
  {
   "cell_type": "code",
   "execution_count": 10,
   "metadata": {
    "collapsed": false,
    "jupyter": {
     "outputs_hidden": false
    },
    "pycharm": {
     "name": "#%%\n"
    }
   },
   "outputs": [
    {
     "name": "stdout",
     "output_type": "stream",
     "text": [
      "getting candidates...\n",
      "Reading examples from: ../input/tensorflow2-question-answering/simplified-nq-test.jsonl\n"
     ]
    }
   ],
   "source": [
    "def read_candidates_from_one_split(input_path):\n",
    "    \"\"\"Read candidates from a single jsonl file.\"\"\"\n",
    "    candidates_dict = {}\n",
    "    print(\"Reading examples from: %s\" % input_path)\n",
    "    if input_path.endswith(\".gz\"):\n",
    "        with gzip.GzipFile(fileobj=tf.io.gfile.GFile(input_path, \"rb\")) as input_file:\n",
    "            for index, line in enumerate(input_file):\n",
    "                e = json.loads(line)\n",
    "                candidates_dict[e[\"example_id\"]] = e[\"long_answer_candidates\"]\n",
    "    else:\n",
    "        with tf.io.gfile.GFile(input_path, \"r\") as input_file:\n",
    "            for index, line in enumerate(input_file):\n",
    "                e = json.loads(line)\n",
    "                candidates_dict[e[\"example_id\"]] = e[\"long_answer_candidates\"]\n",
    "                # candidates_dict['question'] = e['question_text']\n",
    "    return candidates_dict\n",
    "\n",
    "\n",
    "def read_candidates(input_pattern):\n",
    "    \"\"\"Read candidates with real multiple processes.\"\"\"\n",
    "    input_paths = tf.io.gfile.glob(input_pattern)\n",
    "    final_dict = {}\n",
    "    for input_path in input_paths:\n",
    "        final_dict.update(read_candidates_from_one_split(input_path))\n",
    "    return final_dict\n",
    "\n",
    "\n",
    "print(\"getting candidates...\")\n",
    "candidates_dict = read_candidates('../input/tensorflow2-question-answering/simplified-nq-test.jsonl')"
   ]
  },
  {
   "cell_type": "code",
   "execution_count": 11,
   "metadata": {
    "collapsed": false,
    "jupyter": {
     "outputs_hidden": false
    },
    "pycharm": {
     "is_executing": false,
     "name": "#%%\n"
    }
   },
   "outputs": [
    {
     "name": "stdout",
     "output_type": "stream",
     "text": [
      "getting result_df...\n",
      "result_df len before dedup: 9088\n",
      "result_df len after  dedup: 9070\n"
     ]
    }
   ],
   "source": [
    "print(\"getting result_df...\")\n",
    "result_df = pd.DataFrame({\n",
    "    \"example_id\": result[0].squeeze().tolist(),\n",
    "    \"unique_id\": result[1].squeeze().tolist(),\n",
    "    \"start_logits\": result[2].tolist(),\n",
    "    \"end_logits\": result[3].tolist(),\n",
    "    \"answer_type_logits\": result[4].tolist()\n",
    "}).set_index(['example_id', 'unique_id'])\n",
    "# we pad some instances when using TPU, deduplicate it here.\n",
    "if TPU is not None:\n",
    "    print('result_df len before dedup: ' + str(len(result_df)))\n",
    "    result_df = result_df[~result_df.index.duplicated()]\n",
    "    print('result_df len after  dedup: ' + str(len(result_df)))"
   ]
  },
  {
   "cell_type": "code",
   "execution_count": 12,
   "metadata": {
    "collapsed": false,
    "jupyter": {
     "outputs_hidden": false
    },
    "pycharm": {
     "is_executing": false,
     "name": "#%%\n"
    }
   },
   "outputs": [
    {
     "name": "stdout",
     "output_type": "stream",
     "text": [
      "getting token_map_df...\n",
      "token_map_df len before: 9090\n",
      "token_map_df len before: 9070\n"
     ]
    }
   ],
   "source": [
    "token_map_ds = raw_ds.map(lambda x: tf.io.parse_single_example(\n",
    "    serialized=x,\n",
    "    features={\n",
    "        \"example_id\": tf.io.FixedLenFeature([], tf.int64),\n",
    "        \"unique_id\": tf.io.FixedLenFeature([], tf.int64),\n",
    "        # token_map: token to origin map.\n",
    "        \"token_map\": tf.io.FixedLenFeature([SEQ_LENGTH], tf.int64)\n",
    "    }\n",
    "))\n",
    "print(\"getting token_map_df...\")\n",
    "token_map_df = pd.DataFrame.from_records(list(token_map_ds)).applymap(\n",
    "    lambda x: x.numpy()\n",
    ").set_index(['example_id', 'unique_id'])\n",
    "# we pad some instances when using TPU, deduplicate it here.\n",
    "if TPU is not None:\n",
    "    print('token_map_df len before: ' + str(len(token_map_df)))\n",
    "    token_map_df = token_map_df[~token_map_df.index.duplicated()]\n",
    "    print('token_map_df len before: ' + str(len(token_map_df)))"
   ]
  },
  {
   "cell_type": "code",
   "execution_count": 13,
   "metadata": {
    "collapsed": false,
    "jupyter": {
     "outputs_hidden": false
    },
    "pycharm": {
     "is_executing": false,
     "name": "#%%\n"
    }
   },
   "outputs": [],
   "source": [
    "joined = result_df.join(token_map_df, on=['example_id', 'unique_id'])"
   ]
  },
  {
   "cell_type": "code",
   "execution_count": 14,
   "metadata": {
    "collapsed": false,
    "jupyter": {
     "outputs_hidden": false
    },
    "pycharm": {
     "is_executing": false,
     "name": "#%%\n"
    }
   },
   "outputs": [
    {
     "data": {
      "application/vnd.jupyter.widget-view+json": {
       "model_id": "3c2f1f0f13274398a68f70e2d8e9b65f",
       "version_major": 2,
       "version_minor": 0
      },
      "text/plain": [
       "HBox(children=(FloatProgress(value=0.0, max=346.0), HTML(value='')))"
      ]
     },
     "metadata": {},
     "output_type": "display_data"
    },
    {
     "name": "stdout",
     "output_type": "stream",
     "text": [
      "\n"
     ]
    }
   ],
   "source": [
    "def best_score_start_end_of_instance(res: pd.Series):\n",
    "    \"\"\"\n",
    "    :param res: index: ['answer_type_logits', 'end_logits', 'start_logits', 'token_map', 'candidates']\n",
    "    :return: best_score_of_instance, start_short_idx, end_short_idx\n",
    "    \"\"\"\n",
    "    invalid_token_msk = np.array(res['token_map']) == -1\n",
    "    s_logits, e_logits = pd.Series(res['start_logits']), pd.Series(res['end_logits'])\n",
    "    # filter logits corresponding to context token and rank top-k.\n",
    "    s_not_top_k_msk = s_logits.mask(invalid_token_msk) \\\n",
    "                          .rank(method='min', ascending=False) > F['n_best_size']\n",
    "    s_indexes = np.ma.masked_array(np.arange(s_logits.size),\n",
    "                                   mask=s_not_top_k_msk | invalid_token_msk)\n",
    "    e_not_top_k_msk = e_logits.mask(invalid_token_msk) \\\n",
    "                          .rank(method='min', ascending=False) > F['n_best_size']\n",
    "    e_indexes = np.ma.masked_array(np.arange(e_logits.size),\n",
    "                                   mask=e_not_top_k_msk | invalid_token_msk)\n",
    "    # s_e_msk has shape: [512, 512], end index should greater than start index, otherwise, mask it.\n",
    "    s_e_msk = e_indexes[np.newaxis, :] <= s_indexes[:, np.newaxis]\n",
    "    # short answer length should litter than max_answer_length, otherwise, mask it.\n",
    "    s_e_msk |= (e_indexes[np.newaxis, :] - s_indexes[:, np.newaxis] >= F['max_answer_length'])\n",
    "    # full mask.\n",
    "    s_e_msk = s_e_msk.filled(True)\n",
    "\n",
    "    if s_e_msk.all():  # if all start-end combinations has been masked.\n",
    "        return np.NAN, np.NAN, np.NAN\n",
    "    else:\n",
    "        # broadcast to shape: [512, 512], and set mask=s_e_msk\n",
    "        s_logits_bc = np.ma.array(\n",
    "            np.broadcast_to(s_logits[:, np.newaxis], shape=[s_logits.size, e_logits.size]),\n",
    "            mask=s_e_msk)\n",
    "        e_logits_bc = np.ma.array(\n",
    "            np.broadcast_to(e_logits[np.newaxis, :], shape=[s_logits.size, e_logits.size]),\n",
    "            mask=s_e_msk)\n",
    "        short_span_score = s_logits_bc + e_logits_bc\n",
    "        cls_token_score = s_logits[0] + e_logits[0]\n",
    "        score = short_span_score - cls_token_score\n",
    "        s_short_idx, e_short_idx = divmod(score.argmax(), e_logits.size)\n",
    "        s_logits_masked = np.ma.array(res['start_logits'], mask=invalid_token_msk)\n",
    "        e_logits_masked = np.ma.array(res['end_logits'], mask=invalid_token_msk)\n",
    "        ins_score = score.max() - (s_logits_masked.mean() + e_logits_masked.mean())\n",
    "        # s_e_sum = s_logits_bc + e_logits_bc\n",
    "        # s_short_idx, e_short_idx = divmod(s_e_sum.argmax(), e_logits.size)\n",
    "        # s_probs_masked = np.exp(s_logits_masked) / np.sum(np.exp(s_logits_masked))\n",
    "        # e_probs_masked = np.exp(e_logits_masked) / np.sum(np.exp(e_logits_masked))\n",
    "        # n_valid_tokens = (~invalid_token_msk).sum()\n",
    "        # ins_score = (s_probs_masked[s_short_idx] + e_probs_masked[e_short_idx]) * n_valid_tokens\n",
    "        \n",
    "        return ins_score, s_short_idx, e_short_idx\n",
    "\n",
    "\n",
    "pred_df = pd.DataFrame(columns=['example_id', 'score', 'answer_type',\n",
    "                                'short_span_start', 'short_span_end',\n",
    "                                'long_span_start', 'long_span_end', ]\n",
    "                       ).set_index('example_id')\n",
    "# fill pred_df\n",
    "for example_id, group_df in tqdm(joined.groupby('example_id')):\n",
    "    # group_df: each row got a unique id(unique_id), all rows have a some example_id.\n",
    "    # columns = ['answer_type_logits', 'end_logits', 'start_logits', 'token_map', 'candidates']\n",
    "    group_df = group_df.copy().reset_index(level='example_id', drop=True)\n",
    "    # get best score/start/end and answer type for every instance within same example.\n",
    "    for u_id, res in group_df.iterrows():\n",
    "        answer_type_logits = pd.Series(res['answer_type_logits'], index=ANSWER_TYPE_ORDER)\n",
    "        group_df.loc[u_id, 'ins_answer_type'] = answer_type_logits.idxmax()\n",
    "        ins_score, ins_start, ins_end = best_score_start_end_of_instance(res)\n",
    "        group_df.loc[u_id, 'ins_score'] = ins_score\n",
    "        group_df.loc[u_id, 'ins_short_span_start'] = res['token_map'][ins_start]\n",
    "        # end span should be exclusive, and np.nan + 1 = np.nan\n",
    "        group_df.loc[u_id, 'ins_short_span_end'] = res['token_map'][ins_end] + 1\n",
    "    # we pick instance result who's best score is best among the instances within same example\n",
    "    best_u_id = group_df['ins_score'].idxmax()\n",
    "    if best_u_id is not np.NAN:  # if all instances got no score\n",
    "        short_span_start, short_span_end = group_df.loc[best_u_id, ['ins_short_span_start', 'ins_short_span_end']]\n",
    "        pred_df.loc[example_id, 'score'] = group_df.loc[best_u_id, 'ins_score']\n",
    "        pred_df.loc[example_id, 'short_span_start'] = short_span_start\n",
    "        pred_df.loc[example_id, 'short_span_end'] = short_span_end\n",
    "        # search for long answer span.\n",
    "        for cand in candidates_dict[str(example_id)]:\n",
    "            if cand['top_level'] and cand['start_token'] <= short_span_start and short_span_end <= cand['end_token']:\n",
    "                pred_df.loc[example_id, 'long_span_start'] = cand['start_token']\n",
    "                pred_df.loc[example_id, 'long_span_end'] = cand['end_token']\n",
    "                break\n",
    "        pred_df.loc[example_id, 'answer_type'] = group_df.loc[best_u_id, 'ins_answer_type']\n",
    "        # break\n"
   ]
  },
  {
   "cell_type": "markdown",
   "metadata": {
    "pycharm": {
     "is_executing": false,
     "name": "#%% md\n"
    }
   },
   "source": [
    "## 2- Main Change\n",
    "#### Here is the small, but main change: we created an if to check the predicted response type and thus filter / identify the responses that are passed to the submission file."
   ]
  },
  {
   "cell_type": "markdown",
   "metadata": {},
   "source": [
    "### Filtering the Answers"
   ]
  },
  {
   "cell_type": "code",
   "execution_count": 69,
   "metadata": {
    "collapsed": false,
    "jupyter": {
     "outputs_hidden": false
    },
    "pycharm": {
     "is_executing": false,
     "name": "#%%\n"
    }
   },
   "outputs": [],
   "source": [
    "def get_short_pred(pred_row: pd.Series):\n",
    "    # score(best short answer) is np.NAN means: there's no short/long answers.\n",
    "    if pred_row['score'] is np.NAN:\n",
    "        return ''\n",
    "    # answer_type can not be np.NAN if score is not np.NAN.\n",
    "    if pred_row['answer_type'] == 'UNKNOWN':\n",
    "        return ''\n",
    "    if pred_row['answer_type'] in ['YES', 'NO']:\n",
    "        return pred_row['answer_type']\n",
    "    if pred_row['answer_type'] in ['SHORT', 'LONG']:\n",
    "        if pred_row['score'] < 22.5:\n",
    "            return ''\n",
    "        else:\n",
    "            return '%d:%d' % (pred_row['short_span_start'], pred_row['short_span_end'])\n",
    "\n",
    "\n",
    "def get_long_pred(pred_row: pd.Series):\n",
    "    # score(best short answer) is np.NAN means: there's no short/long answers.\n",
    "    if pred_row['score'] is np.NAN:\n",
    "        return ''\n",
    "    # answer_type can not be np.NAN if score is not np.NAN.\n",
    "    if pred_row['answer_type'] == 'UNKNOWN':\n",
    "        return ''\n",
    "    if pred_row['answer_type'] in ['YES', 'NO', 'SHORT', 'LONG']:\n",
    "        if pred_row['score'] < 17.5 or pred_row['long_span_start'] is np.NAN:\n",
    "            return ''\n",
    "        else:\n",
    "            return '%d:%d' % (pred_row['long_span_start'], pred_row['long_span_end'])\n"
   ]
  },
  {
   "cell_type": "markdown",
   "metadata": {
    "pycharm": {
     "is_executing": false,
     "name": "#%% md\n"
    }
   },
   "source": [
    "### Creating a DataFrame"
   ]
  },
  {
   "cell_type": "code",
   "execution_count": 70,
   "metadata": {
    "collapsed": false,
    "jupyter": {
     "outputs_hidden": false
    },
    "pycharm": {
     "is_executing": false,
     "name": "#%%\n"
    }
   },
   "outputs": [],
   "source": [
    "prediction_df = pred_df.copy()\n",
    "prediction_df['long_pred'] = pred_df.apply(get_long_pred, axis='columns')\n",
    "prediction_df['short_pred'] = pred_df.apply(get_short_pred, axis='columns')\n",
    "prediction_df.index = prediction_df.index.map(lambda x: str(x))"
   ]
  },
  {
   "cell_type": "markdown",
   "metadata": {
    "pycharm": {
     "is_executing": false,
     "name": "#%% md\n"
    }
   },
   "source": [
    "### Generating the Submission File"
   ]
  },
  {
   "cell_type": "code",
   "execution_count": 71,
   "metadata": {
    "collapsed": false,
    "jupyter": {
     "outputs_hidden": false
    },
    "pycharm": {
     "is_executing": false,
     "name": "#%%\n"
    }
   },
   "outputs": [],
   "source": [
    "sample_submission = pd.read_csv(SAMPLE_SUBMISSION_PATH).set_index('example_id')\n",
    "\n",
    "for eid, row in prediction_df.iterrows():\n",
    "    sample_submission.loc[eid + '_long', 'PredictionString'] = row['long_pred']\n",
    "    sample_submission.loc[eid + '_short', 'PredictionString'] = row['short_pred']"
   ]
  },
  {
   "cell_type": "code",
   "execution_count": 72,
   "metadata": {
    "collapsed": false,
    "jupyter": {
     "outputs_hidden": false
    },
    "pycharm": {
     "is_executing": false,
     "name": "#%%\n"
    }
   },
   "outputs": [],
   "source": [
    "sample_submission.reset_index().to_csv('submission.csv', index=False)"
   ]
  },
  {
   "cell_type": "code",
   "execution_count": 73,
   "metadata": {},
   "outputs": [
    {
     "data": {
      "text/html": [
       "<div>\n",
       "<style scoped>\n",
       "    .dataframe tbody tr th:only-of-type {\n",
       "        vertical-align: middle;\n",
       "    }\n",
       "\n",
       "    .dataframe tbody tr th {\n",
       "        vertical-align: top;\n",
       "    }\n",
       "\n",
       "    .dataframe thead th {\n",
       "        text-align: right;\n",
       "    }\n",
       "</style>\n",
       "<table border=\"1\" class=\"dataframe\">\n",
       "  <thead>\n",
       "    <tr style=\"text-align: right;\">\n",
       "      <th></th>\n",
       "      <th>score</th>\n",
       "      <th>answer_type</th>\n",
       "      <th>short_span_start</th>\n",
       "      <th>short_span_end</th>\n",
       "      <th>long_span_start</th>\n",
       "      <th>long_span_end</th>\n",
       "      <th>long_pred</th>\n",
       "      <th>short_pred</th>\n",
       "    </tr>\n",
       "    <tr>\n",
       "      <th>example_id</th>\n",
       "      <th></th>\n",
       "      <th></th>\n",
       "      <th></th>\n",
       "      <th></th>\n",
       "      <th></th>\n",
       "      <th></th>\n",
       "      <th></th>\n",
       "      <th></th>\n",
       "    </tr>\n",
       "  </thead>\n",
       "  <tbody>\n",
       "    <tr>\n",
       "      <th>-9106782542406690435</th>\n",
       "      <td>985.147</td>\n",
       "      <td>SHORT</td>\n",
       "      <td>5013</td>\n",
       "      <td>5015</td>\n",
       "      <td>4976</td>\n",
       "      <td>5144</td>\n",
       "      <td>4976:5144</td>\n",
       "      <td>5013:5015</td>\n",
       "    </tr>\n",
       "    <tr>\n",
       "      <th>-9076824655968712429</th>\n",
       "      <td>928.005</td>\n",
       "      <td>UNKNOWN</td>\n",
       "      <td>1592</td>\n",
       "      <td>1596</td>\n",
       "      <td>1571</td>\n",
       "      <td>1793</td>\n",
       "      <td></td>\n",
       "      <td></td>\n",
       "    </tr>\n",
       "    <tr>\n",
       "      <th>-9030298026304897796</th>\n",
       "      <td>955.776</td>\n",
       "      <td>SHORT</td>\n",
       "      <td>629</td>\n",
       "      <td>636</td>\n",
       "      <td>620</td>\n",
       "      <td>727</td>\n",
       "      <td>620:727</td>\n",
       "      <td>629:636</td>\n",
       "    </tr>\n",
       "    <tr>\n",
       "      <th>-8752372642178983917</th>\n",
       "      <td>964.582</td>\n",
       "      <td>UNKNOWN</td>\n",
       "      <td>1382</td>\n",
       "      <td>1384</td>\n",
       "      <td>1380</td>\n",
       "      <td>1790</td>\n",
       "      <td></td>\n",
       "      <td></td>\n",
       "    </tr>\n",
       "    <tr>\n",
       "      <th>-8232502904250181946</th>\n",
       "      <td>964.491</td>\n",
       "      <td>SHORT</td>\n",
       "      <td>1276</td>\n",
       "      <td>1282</td>\n",
       "      <td>1255</td>\n",
       "      <td>1373</td>\n",
       "      <td>1255:1373</td>\n",
       "      <td>1276:1282</td>\n",
       "    </tr>\n",
       "    <tr>\n",
       "      <th>...</th>\n",
       "      <td>...</td>\n",
       "      <td>...</td>\n",
       "      <td>...</td>\n",
       "      <td>...</td>\n",
       "      <td>...</td>\n",
       "      <td>...</td>\n",
       "      <td>...</td>\n",
       "      <td>...</td>\n",
       "    </tr>\n",
       "    <tr>\n",
       "      <th>8838160678370847582</th>\n",
       "      <td>973.083</td>\n",
       "      <td>SHORT</td>\n",
       "      <td>3626</td>\n",
       "      <td>3630</td>\n",
       "      <td>2611</td>\n",
       "      <td>3640</td>\n",
       "      <td>2611:3640</td>\n",
       "      <td>3626:3630</td>\n",
       "    </tr>\n",
       "    <tr>\n",
       "      <th>8847717112932520020</th>\n",
       "      <td>964.771</td>\n",
       "      <td>SHORT</td>\n",
       "      <td>1595</td>\n",
       "      <td>1598</td>\n",
       "      <td>1503</td>\n",
       "      <td>1613</td>\n",
       "      <td>1503:1613</td>\n",
       "      <td>1595:1598</td>\n",
       "    </tr>\n",
       "    <tr>\n",
       "      <th>8898704006223012351</th>\n",
       "      <td>810.931</td>\n",
       "      <td>SHORT</td>\n",
       "      <td>292</td>\n",
       "      <td>293</td>\n",
       "      <td>290</td>\n",
       "      <td>346</td>\n",
       "      <td>290:346</td>\n",
       "      <td>292:293</td>\n",
       "    </tr>\n",
       "    <tr>\n",
       "      <th>8901598759301757038</th>\n",
       "      <td>966.46</td>\n",
       "      <td>UNKNOWN</td>\n",
       "      <td>2021</td>\n",
       "      <td>2026</td>\n",
       "      <td>2020</td>\n",
       "      <td>2200</td>\n",
       "      <td></td>\n",
       "      <td></td>\n",
       "    </tr>\n",
       "    <tr>\n",
       "      <th>8994564890124107395</th>\n",
       "      <td>861.936</td>\n",
       "      <td>SHORT</td>\n",
       "      <td>378</td>\n",
       "      <td>392</td>\n",
       "      <td>350</td>\n",
       "      <td>466</td>\n",
       "      <td>350:466</td>\n",
       "      <td>378:392</td>\n",
       "    </tr>\n",
       "  </tbody>\n",
       "</table>\n",
       "<p>142 rows × 8 columns</p>\n",
       "</div>"
      ],
      "text/plain": [
       "                        score answer_type short_span_start short_span_end  \\\n",
       "example_id                                                                  \n",
       "-9106782542406690435  985.147       SHORT             5013           5015   \n",
       "-9076824655968712429  928.005     UNKNOWN             1592           1596   \n",
       "-9030298026304897796  955.776       SHORT              629            636   \n",
       "-8752372642178983917  964.582     UNKNOWN             1382           1384   \n",
       "-8232502904250181946  964.491       SHORT             1276           1282   \n",
       "...                       ...         ...              ...            ...   \n",
       "8838160678370847582   973.083       SHORT             3626           3630   \n",
       "8847717112932520020   964.771       SHORT             1595           1598   \n",
       "8898704006223012351   810.931       SHORT              292            293   \n",
       "8901598759301757038    966.46     UNKNOWN             2021           2026   \n",
       "8994564890124107395   861.936       SHORT              378            392   \n",
       "\n",
       "                     long_span_start long_span_end  long_pred short_pred  \n",
       "example_id                                                                \n",
       "-9106782542406690435            4976          5144  4976:5144  5013:5015  \n",
       "-9076824655968712429            1571          1793                        \n",
       "-9030298026304897796             620           727    620:727    629:636  \n",
       "-8752372642178983917            1380          1790                        \n",
       "-8232502904250181946            1255          1373  1255:1373  1276:1282  \n",
       "...                              ...           ...        ...        ...  \n",
       "8838160678370847582             2611          3640  2611:3640  3626:3630  \n",
       "8847717112932520020             1503          1613  1503:1613  1595:1598  \n",
       "8898704006223012351              290           346    290:346    292:293  \n",
       "8901598759301757038             2020          2200                        \n",
       "8994564890124107395              350           466    350:466    378:392  \n",
       "\n",
       "[142 rows x 8 columns]"
      ]
     },
     "execution_count": 73,
     "metadata": {},
     "output_type": "execute_result"
    }
   ],
   "source": [
    "prediction_df[prediction_df['score']>800]"
   ]
  },
  {
   "cell_type": "code",
   "execution_count": 74,
   "metadata": {
    "collapsed": false,
    "jupyter": {
     "outputs_hidden": false
    },
    "pycharm": {
     "is_executing": false,
     "name": "#%%\n"
    }
   },
   "outputs": [
    {
     "data": {
      "text/html": [
       "<div>\n",
       "<style scoped>\n",
       "    .dataframe tbody tr th:only-of-type {\n",
       "        vertical-align: middle;\n",
       "    }\n",
       "\n",
       "    .dataframe tbody tr th {\n",
       "        vertical-align: top;\n",
       "    }\n",
       "\n",
       "    .dataframe thead th {\n",
       "        text-align: right;\n",
       "    }\n",
       "</style>\n",
       "<table border=\"1\" class=\"dataframe\">\n",
       "  <thead>\n",
       "    <tr style=\"text-align: right;\">\n",
       "      <th></th>\n",
       "      <th>score</th>\n",
       "      <th>answer_type</th>\n",
       "      <th>short_span_start</th>\n",
       "      <th>short_span_end</th>\n",
       "      <th>long_span_start</th>\n",
       "      <th>long_span_end</th>\n",
       "      <th>long_pred</th>\n",
       "      <th>short_pred</th>\n",
       "    </tr>\n",
       "    <tr>\n",
       "      <th>example_id</th>\n",
       "      <th></th>\n",
       "      <th></th>\n",
       "      <th></th>\n",
       "      <th></th>\n",
       "      <th></th>\n",
       "      <th></th>\n",
       "      <th></th>\n",
       "      <th></th>\n",
       "    </tr>\n",
       "  </thead>\n",
       "  <tbody>\n",
       "    <tr>\n",
       "      <th>5926321958271744357</th>\n",
       "      <td>692.269</td>\n",
       "      <td>UNKNOWN</td>\n",
       "      <td>909</td>\n",
       "      <td>911</td>\n",
       "      <td>904</td>\n",
       "      <td>998</td>\n",
       "      <td></td>\n",
       "      <td></td>\n",
       "    </tr>\n",
       "    <tr>\n",
       "      <th>5962215690907729115</th>\n",
       "      <td>478.793</td>\n",
       "      <td>YES</td>\n",
       "      <td>728</td>\n",
       "      <td>741</td>\n",
       "      <td>688</td>\n",
       "      <td>742</td>\n",
       "      <td>688:742</td>\n",
       "      <td>YES</td>\n",
       "    </tr>\n",
       "    <tr>\n",
       "      <th>6026862874448345027</th>\n",
       "      <td>959.704</td>\n",
       "      <td>SHORT</td>\n",
       "      <td>1622</td>\n",
       "      <td>1624</td>\n",
       "      <td>1576</td>\n",
       "      <td>1674</td>\n",
       "      <td>1576:1674</td>\n",
       "      <td>1622:1624</td>\n",
       "    </tr>\n",
       "    <tr>\n",
       "      <th>6034422085903453063</th>\n",
       "      <td>945.256</td>\n",
       "      <td>UNKNOWN</td>\n",
       "      <td>760</td>\n",
       "      <td>762</td>\n",
       "      <td>759</td>\n",
       "      <td>795</td>\n",
       "      <td></td>\n",
       "      <td></td>\n",
       "    </tr>\n",
       "    <tr>\n",
       "      <th>6170709165341391390</th>\n",
       "      <td>48.2712</td>\n",
       "      <td>SHORT</td>\n",
       "      <td>24</td>\n",
       "      <td>27</td>\n",
       "      <td>22</td>\n",
       "      <td>49</td>\n",
       "      <td></td>\n",
       "      <td></td>\n",
       "    </tr>\n",
       "    <tr>\n",
       "      <th>6200146665861807611</th>\n",
       "      <td>486.414</td>\n",
       "      <td>SHORT</td>\n",
       "      <td>469</td>\n",
       "      <td>498</td>\n",
       "      <td>468</td>\n",
       "      <td>503</td>\n",
       "      <td>468:503</td>\n",
       "      <td></td>\n",
       "    </tr>\n",
       "    <tr>\n",
       "      <th>6217999213225495325</th>\n",
       "      <td>854.772</td>\n",
       "      <td>SHORT</td>\n",
       "      <td>3473</td>\n",
       "      <td>3476</td>\n",
       "      <td>3458</td>\n",
       "      <td>3631</td>\n",
       "      <td>3458:3631</td>\n",
       "      <td>3473:3476</td>\n",
       "    </tr>\n",
       "    <tr>\n",
       "      <th>6244104306165846098</th>\n",
       "      <td>632.418</td>\n",
       "      <td>UNKNOWN</td>\n",
       "      <td>1703</td>\n",
       "      <td>1711</td>\n",
       "      <td>1673</td>\n",
       "      <td>1768</td>\n",
       "      <td></td>\n",
       "      <td></td>\n",
       "    </tr>\n",
       "    <tr>\n",
       "      <th>6307387084414718104</th>\n",
       "      <td>433.498</td>\n",
       "      <td>UNKNOWN</td>\n",
       "      <td>162</td>\n",
       "      <td>165</td>\n",
       "      <td>161</td>\n",
       "      <td>487</td>\n",
       "      <td></td>\n",
       "      <td></td>\n",
       "    </tr>\n",
       "    <tr>\n",
       "      <th>6386368216346051300</th>\n",
       "      <td>433.56</td>\n",
       "      <td>LONG</td>\n",
       "      <td>9</td>\n",
       "      <td>26</td>\n",
       "      <td>8</td>\n",
       "      <td>88</td>\n",
       "      <td>8:88</td>\n",
       "      <td></td>\n",
       "    </tr>\n",
       "    <tr>\n",
       "      <th>6530722205013478232</th>\n",
       "      <td>910.778</td>\n",
       "      <td>SHORT</td>\n",
       "      <td>554</td>\n",
       "      <td>557</td>\n",
       "      <td>552</td>\n",
       "      <td>715</td>\n",
       "      <td>552:715</td>\n",
       "      <td>554:557</td>\n",
       "    </tr>\n",
       "    <tr>\n",
       "      <th>6541711301713226431</th>\n",
       "      <td>630.672</td>\n",
       "      <td>UNKNOWN</td>\n",
       "      <td>3108</td>\n",
       "      <td>3110</td>\n",
       "      <td>3044</td>\n",
       "      <td>3266</td>\n",
       "      <td></td>\n",
       "      <td></td>\n",
       "    </tr>\n",
       "    <tr>\n",
       "      <th>6617903387760170351</th>\n",
       "      <td>950.962</td>\n",
       "      <td>SHORT</td>\n",
       "      <td>663</td>\n",
       "      <td>669</td>\n",
       "      <td>652</td>\n",
       "      <td>747</td>\n",
       "      <td>652:747</td>\n",
       "      <td>663:669</td>\n",
       "    </tr>\n",
       "    <tr>\n",
       "      <th>6721033823743695296</th>\n",
       "      <td>902.953</td>\n",
       "      <td>SHORT</td>\n",
       "      <td>1817</td>\n",
       "      <td>1826</td>\n",
       "      <td>1816</td>\n",
       "      <td>2227</td>\n",
       "      <td>1816:2227</td>\n",
       "      <td>1817:1826</td>\n",
       "    </tr>\n",
       "    <tr>\n",
       "      <th>6801986500551995902</th>\n",
       "      <td>494.59</td>\n",
       "      <td>UNKNOWN</td>\n",
       "      <td>416</td>\n",
       "      <td>430</td>\n",
       "      <td>415</td>\n",
       "      <td>431</td>\n",
       "      <td></td>\n",
       "      <td></td>\n",
       "    </tr>\n",
       "    <tr>\n",
       "      <th>6816314025175489798</th>\n",
       "      <td>880.718</td>\n",
       "      <td>SHORT</td>\n",
       "      <td>447</td>\n",
       "      <td>449</td>\n",
       "      <td>354</td>\n",
       "      <td>2366</td>\n",
       "      <td>354:2366</td>\n",
       "      <td>447:449</td>\n",
       "    </tr>\n",
       "    <tr>\n",
       "      <th>6903455298740107054</th>\n",
       "      <td>844.835</td>\n",
       "      <td>SHORT</td>\n",
       "      <td>537</td>\n",
       "      <td>546</td>\n",
       "      <td>502</td>\n",
       "      <td>648</td>\n",
       "      <td>502:648</td>\n",
       "      <td>537:546</td>\n",
       "    </tr>\n",
       "    <tr>\n",
       "      <th>6937288477290520054</th>\n",
       "      <td>978.322</td>\n",
       "      <td>SHORT</td>\n",
       "      <td>350</td>\n",
       "      <td>359</td>\n",
       "      <td>284</td>\n",
       "      <td>436</td>\n",
       "      <td>284:436</td>\n",
       "      <td>350:359</td>\n",
       "    </tr>\n",
       "    <tr>\n",
       "      <th>6941981636540706985</th>\n",
       "      <td>478.351</td>\n",
       "      <td>UNKNOWN</td>\n",
       "      <td>225</td>\n",
       "      <td>233</td>\n",
       "      <td>224</td>\n",
       "      <td>312</td>\n",
       "      <td></td>\n",
       "      <td></td>\n",
       "    </tr>\n",
       "    <tr>\n",
       "      <th>7227713163557634880</th>\n",
       "      <td>967.722</td>\n",
       "      <td>SHORT</td>\n",
       "      <td>351</td>\n",
       "      <td>353</td>\n",
       "      <td>302</td>\n",
       "      <td>360</td>\n",
       "      <td>302:360</td>\n",
       "      <td>351:353</td>\n",
       "    </tr>\n",
       "    <tr>\n",
       "      <th>7241074253049318888</th>\n",
       "      <td>937.264</td>\n",
       "      <td>SHORT</td>\n",
       "      <td>676</td>\n",
       "      <td>679</td>\n",
       "      <td>566</td>\n",
       "      <td>1231</td>\n",
       "      <td>566:1231</td>\n",
       "      <td>676:679</td>\n",
       "    </tr>\n",
       "    <tr>\n",
       "      <th>7294303183050707045</th>\n",
       "      <td>929.64</td>\n",
       "      <td>UNKNOWN</td>\n",
       "      <td>1239</td>\n",
       "      <td>1248</td>\n",
       "      <td>987</td>\n",
       "      <td>1251</td>\n",
       "      <td></td>\n",
       "      <td></td>\n",
       "    </tr>\n",
       "    <tr>\n",
       "      <th>7344351129603235605</th>\n",
       "      <td>512.354</td>\n",
       "      <td>UNKNOWN</td>\n",
       "      <td>4511</td>\n",
       "      <td>4512</td>\n",
       "      <td>1030</td>\n",
       "      <td>4562</td>\n",
       "      <td></td>\n",
       "      <td></td>\n",
       "    </tr>\n",
       "    <tr>\n",
       "      <th>7423161503331671045</th>\n",
       "      <td>779.319</td>\n",
       "      <td>SHORT</td>\n",
       "      <td>38394</td>\n",
       "      <td>38397</td>\n",
       "      <td>313</td>\n",
       "      <td>40829</td>\n",
       "      <td>313:40829</td>\n",
       "      <td></td>\n",
       "    </tr>\n",
       "    <tr>\n",
       "      <th>7424042857240708361</th>\n",
       "      <td>386.781</td>\n",
       "      <td>UNKNOWN</td>\n",
       "      <td>259</td>\n",
       "      <td>265</td>\n",
       "      <td>258</td>\n",
       "      <td>314</td>\n",
       "      <td></td>\n",
       "      <td></td>\n",
       "    </tr>\n",
       "    <tr>\n",
       "      <th>7432967214446639084</th>\n",
       "      <td>897.419</td>\n",
       "      <td>LONG</td>\n",
       "      <td>1343</td>\n",
       "      <td>1370</td>\n",
       "      <td>1342</td>\n",
       "      <td>1371</td>\n",
       "      <td>1342:1371</td>\n",
       "      <td>1343:1370</td>\n",
       "    </tr>\n",
       "    <tr>\n",
       "      <th>7517618431482920992</th>\n",
       "      <td>503.98</td>\n",
       "      <td>SHORT</td>\n",
       "      <td>275</td>\n",
       "      <td>303</td>\n",
       "      <td>117</td>\n",
       "      <td>320</td>\n",
       "      <td>117:320</td>\n",
       "      <td></td>\n",
       "    </tr>\n",
       "    <tr>\n",
       "      <th>7537193362496034910</th>\n",
       "      <td>962.633</td>\n",
       "      <td>SHORT</td>\n",
       "      <td>1146</td>\n",
       "      <td>1149</td>\n",
       "      <td>1070</td>\n",
       "      <td>1158</td>\n",
       "      <td>1070:1158</td>\n",
       "      <td>1146:1149</td>\n",
       "    </tr>\n",
       "    <tr>\n",
       "      <th>7657550422844217908</th>\n",
       "      <td>481.291</td>\n",
       "      <td>UNKNOWN</td>\n",
       "      <td>744</td>\n",
       "      <td>756</td>\n",
       "      <td>743</td>\n",
       "      <td>898</td>\n",
       "      <td></td>\n",
       "      <td></td>\n",
       "    </tr>\n",
       "    <tr>\n",
       "      <th>7721992060545680748</th>\n",
       "      <td>946.125</td>\n",
       "      <td>SHORT</td>\n",
       "      <td>1194</td>\n",
       "      <td>1195</td>\n",
       "      <td>1184</td>\n",
       "      <td>1248</td>\n",
       "      <td>1184:1248</td>\n",
       "      <td>1194:1195</td>\n",
       "    </tr>\n",
       "    <tr>\n",
       "      <th>7826148994851450630</th>\n",
       "      <td>527.67</td>\n",
       "      <td>SHORT</td>\n",
       "      <td>205</td>\n",
       "      <td>219</td>\n",
       "      <td>101</td>\n",
       "      <td>225</td>\n",
       "      <td>101:225</td>\n",
       "      <td></td>\n",
       "    </tr>\n",
       "    <tr>\n",
       "      <th>7901163940863403168</th>\n",
       "      <td>470.475</td>\n",
       "      <td>UNKNOWN</td>\n",
       "      <td>2731</td>\n",
       "      <td>2734</td>\n",
       "      <td>2679</td>\n",
       "      <td>2750</td>\n",
       "      <td></td>\n",
       "      <td></td>\n",
       "    </tr>\n",
       "    <tr>\n",
       "      <th>7909023684769079165</th>\n",
       "      <td>419.31</td>\n",
       "      <td>UNKNOWN</td>\n",
       "      <td>1459</td>\n",
       "      <td>1465</td>\n",
       "      <td>1334</td>\n",
       "      <td>1466</td>\n",
       "      <td></td>\n",
       "      <td></td>\n",
       "    </tr>\n",
       "    <tr>\n",
       "      <th>7915935006622117208</th>\n",
       "      <td>488.279</td>\n",
       "      <td>LONG</td>\n",
       "      <td>2923</td>\n",
       "      <td>2938</td>\n",
       "      <td>2922</td>\n",
       "      <td>3176</td>\n",
       "      <td>2922:3176</td>\n",
       "      <td></td>\n",
       "    </tr>\n",
       "    <tr>\n",
       "      <th>7919080561402978223</th>\n",
       "      <td>706.304</td>\n",
       "      <td>SHORT</td>\n",
       "      <td>12</td>\n",
       "      <td>15</td>\n",
       "      <td>10</td>\n",
       "      <td>81</td>\n",
       "      <td>10:81</td>\n",
       "      <td></td>\n",
       "    </tr>\n",
       "    <tr>\n",
       "      <th>7966724922739627775</th>\n",
       "      <td>602.623</td>\n",
       "      <td>UNKNOWN</td>\n",
       "      <td>864</td>\n",
       "      <td>866</td>\n",
       "      <td>819</td>\n",
       "      <td>893</td>\n",
       "      <td></td>\n",
       "      <td></td>\n",
       "    </tr>\n",
       "    <tr>\n",
       "      <th>8009244943647758396</th>\n",
       "      <td>819.996</td>\n",
       "      <td>SHORT</td>\n",
       "      <td>1490</td>\n",
       "      <td>1492</td>\n",
       "      <td>1468</td>\n",
       "      <td>1641</td>\n",
       "      <td>1468:1641</td>\n",
       "      <td>1490:1492</td>\n",
       "    </tr>\n",
       "    <tr>\n",
       "      <th>8241570808696998156</th>\n",
       "      <td>836.97</td>\n",
       "      <td>SHORT</td>\n",
       "      <td>2938</td>\n",
       "      <td>2942</td>\n",
       "      <td>2903</td>\n",
       "      <td>2954</td>\n",
       "      <td>2903:2954</td>\n",
       "      <td>2938:2942</td>\n",
       "    </tr>\n",
       "    <tr>\n",
       "      <th>8258383303168037984</th>\n",
       "      <td>440.511</td>\n",
       "      <td>UNKNOWN</td>\n",
       "      <td>563</td>\n",
       "      <td>565</td>\n",
       "      <td>544</td>\n",
       "      <td>670</td>\n",
       "      <td></td>\n",
       "      <td></td>\n",
       "    </tr>\n",
       "    <tr>\n",
       "      <th>8286291456959361358</th>\n",
       "      <td>480.746</td>\n",
       "      <td>UNKNOWN</td>\n",
       "      <td>307</td>\n",
       "      <td>322</td>\n",
       "      <td>306</td>\n",
       "      <td>377</td>\n",
       "      <td></td>\n",
       "      <td></td>\n",
       "    </tr>\n",
       "    <tr>\n",
       "      <th>8331555554770476753</th>\n",
       "      <td>459.087</td>\n",
       "      <td>UNKNOWN</td>\n",
       "      <td>240</td>\n",
       "      <td>254</td>\n",
       "      <td>239</td>\n",
       "      <td>323</td>\n",
       "      <td></td>\n",
       "      <td></td>\n",
       "    </tr>\n",
       "    <tr>\n",
       "      <th>8356167628835851659</th>\n",
       "      <td>517.362</td>\n",
       "      <td>UNKNOWN</td>\n",
       "      <td>2893</td>\n",
       "      <td>2895</td>\n",
       "      <td>2891</td>\n",
       "      <td>2930</td>\n",
       "      <td></td>\n",
       "      <td></td>\n",
       "    </tr>\n",
       "    <tr>\n",
       "      <th>8551333216125619008</th>\n",
       "      <td>424.298</td>\n",
       "      <td>LONG</td>\n",
       "      <td>192</td>\n",
       "      <td>204</td>\n",
       "      <td>73</td>\n",
       "      <td>207</td>\n",
       "      <td>73:207</td>\n",
       "      <td></td>\n",
       "    </tr>\n",
       "    <tr>\n",
       "      <th>8622726872540768274</th>\n",
       "      <td>909.564</td>\n",
       "      <td>UNKNOWN</td>\n",
       "      <td>1484</td>\n",
       "      <td>1487</td>\n",
       "      <td>1480</td>\n",
       "      <td>1727</td>\n",
       "      <td></td>\n",
       "      <td></td>\n",
       "    </tr>\n",
       "    <tr>\n",
       "      <th>8644948107288181312</th>\n",
       "      <td>481.356</td>\n",
       "      <td>LONG</td>\n",
       "      <td>494</td>\n",
       "      <td>507</td>\n",
       "      <td>493</td>\n",
       "      <td>557</td>\n",
       "      <td>493:557</td>\n",
       "      <td></td>\n",
       "    </tr>\n",
       "    <tr>\n",
       "      <th>8688138342570059114</th>\n",
       "      <td>776.692</td>\n",
       "      <td>UNKNOWN</td>\n",
       "      <td>430</td>\n",
       "      <td>439</td>\n",
       "      <td>383</td>\n",
       "      <td>482</td>\n",
       "      <td></td>\n",
       "      <td></td>\n",
       "    </tr>\n",
       "    <tr>\n",
       "      <th>8777415633185303067</th>\n",
       "      <td>922.972</td>\n",
       "      <td>SHORT</td>\n",
       "      <td>1098</td>\n",
       "      <td>1102</td>\n",
       "      <td>1096</td>\n",
       "      <td>1250</td>\n",
       "      <td>1096:1250</td>\n",
       "      <td>1098:1102</td>\n",
       "    </tr>\n",
       "    <tr>\n",
       "      <th>8808974242947452932</th>\n",
       "      <td>485.554</td>\n",
       "      <td>UNKNOWN</td>\n",
       "      <td>335</td>\n",
       "      <td>359</td>\n",
       "      <td>334</td>\n",
       "      <td>433</td>\n",
       "      <td></td>\n",
       "      <td></td>\n",
       "    </tr>\n",
       "    <tr>\n",
       "      <th>8838160678370847582</th>\n",
       "      <td>973.083</td>\n",
       "      <td>SHORT</td>\n",
       "      <td>3626</td>\n",
       "      <td>3630</td>\n",
       "      <td>2611</td>\n",
       "      <td>3640</td>\n",
       "      <td>2611:3640</td>\n",
       "      <td>3626:3630</td>\n",
       "    </tr>\n",
       "    <tr>\n",
       "      <th>8847717112932520020</th>\n",
       "      <td>964.771</td>\n",
       "      <td>SHORT</td>\n",
       "      <td>1595</td>\n",
       "      <td>1598</td>\n",
       "      <td>1503</td>\n",
       "      <td>1613</td>\n",
       "      <td>1503:1613</td>\n",
       "      <td>1595:1598</td>\n",
       "    </tr>\n",
       "    <tr>\n",
       "      <th>8877554338842696237</th>\n",
       "      <td>645.286</td>\n",
       "      <td>SHORT</td>\n",
       "      <td>369</td>\n",
       "      <td>376</td>\n",
       "      <td>330</td>\n",
       "      <td>383</td>\n",
       "      <td>330:383</td>\n",
       "      <td></td>\n",
       "    </tr>\n",
       "    <tr>\n",
       "      <th>8894307363746818563</th>\n",
       "      <td>460.678</td>\n",
       "      <td>LONG</td>\n",
       "      <td>483</td>\n",
       "      <td>485</td>\n",
       "      <td>378</td>\n",
       "      <td>486</td>\n",
       "      <td>378:486</td>\n",
       "      <td></td>\n",
       "    </tr>\n",
       "    <tr>\n",
       "      <th>8898704006223012351</th>\n",
       "      <td>810.931</td>\n",
       "      <td>SHORT</td>\n",
       "      <td>292</td>\n",
       "      <td>293</td>\n",
       "      <td>290</td>\n",
       "      <td>346</td>\n",
       "      <td>290:346</td>\n",
       "      <td>292:293</td>\n",
       "    </tr>\n",
       "    <tr>\n",
       "      <th>8901598759301757038</th>\n",
       "      <td>966.46</td>\n",
       "      <td>UNKNOWN</td>\n",
       "      <td>2021</td>\n",
       "      <td>2026</td>\n",
       "      <td>2020</td>\n",
       "      <td>2200</td>\n",
       "      <td></td>\n",
       "      <td></td>\n",
       "    </tr>\n",
       "    <tr>\n",
       "      <th>8948288031943808715</th>\n",
       "      <td>467.509</td>\n",
       "      <td>UNKNOWN</td>\n",
       "      <td>1025</td>\n",
       "      <td>1049</td>\n",
       "      <td>898</td>\n",
       "      <td>1058</td>\n",
       "      <td></td>\n",
       "      <td></td>\n",
       "    </tr>\n",
       "    <tr>\n",
       "      <th>8980113463461562294</th>\n",
       "      <td>493.913</td>\n",
       "      <td>SHORT</td>\n",
       "      <td>701</td>\n",
       "      <td>709</td>\n",
       "      <td>662</td>\n",
       "      <td>860</td>\n",
       "      <td>662:860</td>\n",
       "      <td></td>\n",
       "    </tr>\n",
       "    <tr>\n",
       "      <th>8994564890124107395</th>\n",
       "      <td>861.936</td>\n",
       "      <td>SHORT</td>\n",
       "      <td>378</td>\n",
       "      <td>392</td>\n",
       "      <td>350</td>\n",
       "      <td>466</td>\n",
       "      <td>350:466</td>\n",
       "      <td>378:392</td>\n",
       "    </tr>\n",
       "    <tr>\n",
       "      <th>9043499022309600719</th>\n",
       "      <td>447.042</td>\n",
       "      <td>UNKNOWN</td>\n",
       "      <td>1711</td>\n",
       "      <td>1752</td>\n",
       "      <td>1708</td>\n",
       "      <td>1757</td>\n",
       "      <td></td>\n",
       "      <td></td>\n",
       "    </tr>\n",
       "    <tr>\n",
       "      <th>9204032098950736962</th>\n",
       "      <td>491.849</td>\n",
       "      <td>LONG</td>\n",
       "      <td>2208</td>\n",
       "      <td>2218</td>\n",
       "      <td>2086</td>\n",
       "      <td>2221</td>\n",
       "      <td>2086:2221</td>\n",
       "      <td></td>\n",
       "    </tr>\n",
       "    <tr>\n",
       "      <th>9212083134098244596</th>\n",
       "      <td>704.178</td>\n",
       "      <td>SHORT</td>\n",
       "      <td>233</td>\n",
       "      <td>238</td>\n",
       "      <td>168</td>\n",
       "      <td>241</td>\n",
       "      <td>168:241</td>\n",
       "      <td></td>\n",
       "    </tr>\n",
       "  </tbody>\n",
       "</table>\n",
       "</div>"
      ],
      "text/plain": [
       "                       score answer_type short_span_start short_span_end  \\\n",
       "example_id                                                                 \n",
       "5926321958271744357  692.269     UNKNOWN              909            911   \n",
       "5962215690907729115  478.793         YES              728            741   \n",
       "6026862874448345027  959.704       SHORT             1622           1624   \n",
       "6034422085903453063  945.256     UNKNOWN              760            762   \n",
       "6170709165341391390  48.2712       SHORT               24             27   \n",
       "6200146665861807611  486.414       SHORT              469            498   \n",
       "6217999213225495325  854.772       SHORT             3473           3476   \n",
       "6244104306165846098  632.418     UNKNOWN             1703           1711   \n",
       "6307387084414718104  433.498     UNKNOWN              162            165   \n",
       "6386368216346051300   433.56        LONG                9             26   \n",
       "6530722205013478232  910.778       SHORT              554            557   \n",
       "6541711301713226431  630.672     UNKNOWN             3108           3110   \n",
       "6617903387760170351  950.962       SHORT              663            669   \n",
       "6721033823743695296  902.953       SHORT             1817           1826   \n",
       "6801986500551995902   494.59     UNKNOWN              416            430   \n",
       "6816314025175489798  880.718       SHORT              447            449   \n",
       "6903455298740107054  844.835       SHORT              537            546   \n",
       "6937288477290520054  978.322       SHORT              350            359   \n",
       "6941981636540706985  478.351     UNKNOWN              225            233   \n",
       "7227713163557634880  967.722       SHORT              351            353   \n",
       "7241074253049318888  937.264       SHORT              676            679   \n",
       "7294303183050707045   929.64     UNKNOWN             1239           1248   \n",
       "7344351129603235605  512.354     UNKNOWN             4511           4512   \n",
       "7423161503331671045  779.319       SHORT            38394          38397   \n",
       "7424042857240708361  386.781     UNKNOWN              259            265   \n",
       "7432967214446639084  897.419        LONG             1343           1370   \n",
       "7517618431482920992   503.98       SHORT              275            303   \n",
       "7537193362496034910  962.633       SHORT             1146           1149   \n",
       "7657550422844217908  481.291     UNKNOWN              744            756   \n",
       "7721992060545680748  946.125       SHORT             1194           1195   \n",
       "7826148994851450630   527.67       SHORT              205            219   \n",
       "7901163940863403168  470.475     UNKNOWN             2731           2734   \n",
       "7909023684769079165   419.31     UNKNOWN             1459           1465   \n",
       "7915935006622117208  488.279        LONG             2923           2938   \n",
       "7919080561402978223  706.304       SHORT               12             15   \n",
       "7966724922739627775  602.623     UNKNOWN              864            866   \n",
       "8009244943647758396  819.996       SHORT             1490           1492   \n",
       "8241570808696998156   836.97       SHORT             2938           2942   \n",
       "8258383303168037984  440.511     UNKNOWN              563            565   \n",
       "8286291456959361358  480.746     UNKNOWN              307            322   \n",
       "8331555554770476753  459.087     UNKNOWN              240            254   \n",
       "8356167628835851659  517.362     UNKNOWN             2893           2895   \n",
       "8551333216125619008  424.298        LONG              192            204   \n",
       "8622726872540768274  909.564     UNKNOWN             1484           1487   \n",
       "8644948107288181312  481.356        LONG              494            507   \n",
       "8688138342570059114  776.692     UNKNOWN              430            439   \n",
       "8777415633185303067  922.972       SHORT             1098           1102   \n",
       "8808974242947452932  485.554     UNKNOWN              335            359   \n",
       "8838160678370847582  973.083       SHORT             3626           3630   \n",
       "8847717112932520020  964.771       SHORT             1595           1598   \n",
       "8877554338842696237  645.286       SHORT              369            376   \n",
       "8894307363746818563  460.678        LONG              483            485   \n",
       "8898704006223012351  810.931       SHORT              292            293   \n",
       "8901598759301757038   966.46     UNKNOWN             2021           2026   \n",
       "8948288031943808715  467.509     UNKNOWN             1025           1049   \n",
       "8980113463461562294  493.913       SHORT              701            709   \n",
       "8994564890124107395  861.936       SHORT              378            392   \n",
       "9043499022309600719  447.042     UNKNOWN             1711           1752   \n",
       "9204032098950736962  491.849        LONG             2208           2218   \n",
       "9212083134098244596  704.178       SHORT              233            238   \n",
       "\n",
       "                    long_span_start long_span_end  long_pred short_pred  \n",
       "example_id                                                               \n",
       "5926321958271744357             904           998                        \n",
       "5962215690907729115             688           742    688:742        YES  \n",
       "6026862874448345027            1576          1674  1576:1674  1622:1624  \n",
       "6034422085903453063             759           795                        \n",
       "6170709165341391390              22            49                        \n",
       "6200146665861807611             468           503    468:503             \n",
       "6217999213225495325            3458          3631  3458:3631  3473:3476  \n",
       "6244104306165846098            1673          1768                        \n",
       "6307387084414718104             161           487                        \n",
       "6386368216346051300               8            88       8:88             \n",
       "6530722205013478232             552           715    552:715    554:557  \n",
       "6541711301713226431            3044          3266                        \n",
       "6617903387760170351             652           747    652:747    663:669  \n",
       "6721033823743695296            1816          2227  1816:2227  1817:1826  \n",
       "6801986500551995902             415           431                        \n",
       "6816314025175489798             354          2366   354:2366    447:449  \n",
       "6903455298740107054             502           648    502:648    537:546  \n",
       "6937288477290520054             284           436    284:436    350:359  \n",
       "6941981636540706985             224           312                        \n",
       "7227713163557634880             302           360    302:360    351:353  \n",
       "7241074253049318888             566          1231   566:1231    676:679  \n",
       "7294303183050707045             987          1251                        \n",
       "7344351129603235605            1030          4562                        \n",
       "7423161503331671045             313         40829  313:40829             \n",
       "7424042857240708361             258           314                        \n",
       "7432967214446639084            1342          1371  1342:1371  1343:1370  \n",
       "7517618431482920992             117           320    117:320             \n",
       "7537193362496034910            1070          1158  1070:1158  1146:1149  \n",
       "7657550422844217908             743           898                        \n",
       "7721992060545680748            1184          1248  1184:1248  1194:1195  \n",
       "7826148994851450630             101           225    101:225             \n",
       "7901163940863403168            2679          2750                        \n",
       "7909023684769079165            1334          1466                        \n",
       "7915935006622117208            2922          3176  2922:3176             \n",
       "7919080561402978223              10            81      10:81             \n",
       "7966724922739627775             819           893                        \n",
       "8009244943647758396            1468          1641  1468:1641  1490:1492  \n",
       "8241570808696998156            2903          2954  2903:2954  2938:2942  \n",
       "8258383303168037984             544           670                        \n",
       "8286291456959361358             306           377                        \n",
       "8331555554770476753             239           323                        \n",
       "8356167628835851659            2891          2930                        \n",
       "8551333216125619008              73           207     73:207             \n",
       "8622726872540768274            1480          1727                        \n",
       "8644948107288181312             493           557    493:557             \n",
       "8688138342570059114             383           482                        \n",
       "8777415633185303067            1096          1250  1096:1250  1098:1102  \n",
       "8808974242947452932             334           433                        \n",
       "8838160678370847582            2611          3640  2611:3640  3626:3630  \n",
       "8847717112932520020            1503          1613  1503:1613  1595:1598  \n",
       "8877554338842696237             330           383    330:383             \n",
       "8894307363746818563             378           486    378:486             \n",
       "8898704006223012351             290           346    290:346    292:293  \n",
       "8901598759301757038            2020          2200                        \n",
       "8948288031943808715             898          1058                        \n",
       "8980113463461562294             662           860    662:860             \n",
       "8994564890124107395             350           466    350:466    378:392  \n",
       "9043499022309600719            1708          1757                        \n",
       "9204032098950736962            2086          2221  2086:2221             \n",
       "9212083134098244596             168           241    168:241             "
      ]
     },
     "execution_count": 74,
     "metadata": {},
     "output_type": "execute_result"
    }
   ],
   "source": [
    "prediction_df.tail(60)"
   ]
  },
  {
   "cell_type": "code",
   "execution_count": 75,
   "metadata": {},
   "outputs": [
    {
     "data": {
      "text/html": [
       "<div>\n",
       "<style scoped>\n",
       "    .dataframe tbody tr th:only-of-type {\n",
       "        vertical-align: middle;\n",
       "    }\n",
       "\n",
       "    .dataframe tbody tr th {\n",
       "        vertical-align: top;\n",
       "    }\n",
       "\n",
       "    .dataframe thead th {\n",
       "        text-align: right;\n",
       "    }\n",
       "</style>\n",
       "<table border=\"1\" class=\"dataframe\">\n",
       "  <thead>\n",
       "    <tr style=\"text-align: right;\">\n",
       "      <th></th>\n",
       "      <th>PredictionString</th>\n",
       "    </tr>\n",
       "    <tr>\n",
       "      <th>example_id</th>\n",
       "      <th></th>\n",
       "    </tr>\n",
       "  </thead>\n",
       "  <tbody>\n",
       "    <tr>\n",
       "      <th>-1011141123527297803_short</th>\n",
       "      <td></td>\n",
       "    </tr>\n",
       "    <tr>\n",
       "      <th>-1028916936938579349_long</th>\n",
       "      <td></td>\n",
       "    </tr>\n",
       "    <tr>\n",
       "      <th>-1028916936938579349_short</th>\n",
       "      <td></td>\n",
       "    </tr>\n",
       "    <tr>\n",
       "      <th>-1055197305756217938_short</th>\n",
       "      <td></td>\n",
       "    </tr>\n",
       "    <tr>\n",
       "      <th>-1114334749483663139_long</th>\n",
       "      <td></td>\n",
       "    </tr>\n",
       "    <tr>\n",
       "      <th>...</th>\n",
       "      <td>...</td>\n",
       "    </tr>\n",
       "    <tr>\n",
       "      <th>9212083134098244596_short</th>\n",
       "      <td></td>\n",
       "    </tr>\n",
       "    <tr>\n",
       "      <th>934950704129184964_long</th>\n",
       "      <td></td>\n",
       "    </tr>\n",
       "    <tr>\n",
       "      <th>934950704129184964_short</th>\n",
       "      <td></td>\n",
       "    </tr>\n",
       "    <tr>\n",
       "      <th>958723574737344087_long</th>\n",
       "      <td></td>\n",
       "    </tr>\n",
       "    <tr>\n",
       "      <th>958723574737344087_short</th>\n",
       "      <td></td>\n",
       "    </tr>\n",
       "  </tbody>\n",
       "</table>\n",
       "<p>385 rows × 1 columns</p>\n",
       "</div>"
      ],
      "text/plain": [
       "                           PredictionString\n",
       "example_id                                 \n",
       "-1011141123527297803_short                 \n",
       "-1028916936938579349_long                  \n",
       "-1028916936938579349_short                 \n",
       "-1055197305756217938_short                 \n",
       "-1114334749483663139_long                  \n",
       "...                                     ...\n",
       "9212083134098244596_short                  \n",
       "934950704129184964_long                    \n",
       "934950704129184964_short                   \n",
       "958723574737344087_long                    \n",
       "958723574737344087_short                   \n",
       "\n",
       "[385 rows x 1 columns]"
      ]
     },
     "execution_count": 75,
     "metadata": {},
     "output_type": "execute_result"
    }
   ],
   "source": [
    "blank_answers = sample_submission[sample_submission['PredictionString'] == '']\n",
    "blank_answers"
   ]
  },
  {
   "cell_type": "markdown",
   "metadata": {
    "pycharm": {
     "is_executing": false,
     "name": "#%% md\n"
    }
   },
   "source": [
    "*Yes\n",
    "Answers"
   ]
  },
  {
   "cell_type": "code",
   "execution_count": 76,
   "metadata": {
    "collapsed": false,
    "jupyter": {
     "outputs_hidden": false
    },
    "pycharm": {
     "is_executing": false,
     "name": "#%%\n"
    }
   },
   "outputs": [
    {
     "data": {
      "text/html": [
       "<div>\n",
       "<style scoped>\n",
       "    .dataframe tbody tr th:only-of-type {\n",
       "        vertical-align: middle;\n",
       "    }\n",
       "\n",
       "    .dataframe tbody tr th {\n",
       "        vertical-align: top;\n",
       "    }\n",
       "\n",
       "    .dataframe thead th {\n",
       "        text-align: right;\n",
       "    }\n",
       "</style>\n",
       "<table border=\"1\" class=\"dataframe\">\n",
       "  <thead>\n",
       "    <tr style=\"text-align: right;\">\n",
       "      <th></th>\n",
       "      <th>PredictionString</th>\n",
       "    </tr>\n",
       "    <tr>\n",
       "      <th>example_id</th>\n",
       "      <th></th>\n",
       "    </tr>\n",
       "  </thead>\n",
       "  <tbody>\n",
       "    <tr>\n",
       "      <th>-6363382149580295498_short</th>\n",
       "      <td>YES</td>\n",
       "    </tr>\n",
       "    <tr>\n",
       "      <th>5509115004294491239_short</th>\n",
       "      <td>YES</td>\n",
       "    </tr>\n",
       "    <tr>\n",
       "      <th>5962215690907729115_short</th>\n",
       "      <td>YES</td>\n",
       "    </tr>\n",
       "  </tbody>\n",
       "</table>\n",
       "</div>"
      ],
      "text/plain": [
       "                           PredictionString\n",
       "example_id                                 \n",
       "-6363382149580295498_short              YES\n",
       "5509115004294491239_short               YES\n",
       "5962215690907729115_short               YES"
      ]
     },
     "execution_count": 76,
     "metadata": {},
     "output_type": "execute_result"
    }
   ],
   "source": [
    "yes_answers = sample_submission[sample_submission['PredictionString'] == 'YES']\n",
    "yes_answers"
   ]
  },
  {
   "cell_type": "markdown",
   "metadata": {
    "pycharm": {
     "is_executing": false,
     "name": "#%% md\n"
    }
   },
   "source": [
    "*No\n",
    "Answers"
   ]
  },
  {
   "cell_type": "code",
   "execution_count": 77,
   "metadata": {
    "collapsed": false,
    "jupyter": {
     "outputs_hidden": false
    },
    "pycharm": {
     "is_executing": false,
     "name": "#%%\n"
    }
   },
   "outputs": [
    {
     "data": {
      "text/html": [
       "<div>\n",
       "<style scoped>\n",
       "    .dataframe tbody tr th:only-of-type {\n",
       "        vertical-align: middle;\n",
       "    }\n",
       "\n",
       "    .dataframe tbody tr th {\n",
       "        vertical-align: top;\n",
       "    }\n",
       "\n",
       "    .dataframe thead th {\n",
       "        text-align: right;\n",
       "    }\n",
       "</style>\n",
       "<table border=\"1\" class=\"dataframe\">\n",
       "  <thead>\n",
       "    <tr style=\"text-align: right;\">\n",
       "      <th></th>\n",
       "      <th>PredictionString</th>\n",
       "    </tr>\n",
       "    <tr>\n",
       "      <th>example_id</th>\n",
       "      <th></th>\n",
       "    </tr>\n",
       "  </thead>\n",
       "  <tbody>\n",
       "    <tr>\n",
       "      <th>-3461207570097431362_short</th>\n",
       "      <td>NO</td>\n",
       "    </tr>\n",
       "  </tbody>\n",
       "</table>\n",
       "</div>"
      ],
      "text/plain": [
       "                           PredictionString\n",
       "example_id                                 \n",
       "-3461207570097431362_short               NO"
      ]
     },
     "execution_count": 77,
     "metadata": {},
     "output_type": "execute_result"
    }
   ],
   "source": [
    "no_answers = sample_submission[sample_submission['PredictionString'] == 'NO']\n",
    "no_answers"
   ]
  },
  {
   "cell_type": "code",
   "execution_count": 78,
   "metadata": {},
   "outputs": [
    {
     "data": {
      "text/html": [
       "<div>\n",
       "<style scoped>\n",
       "    .dataframe tbody tr th:only-of-type {\n",
       "        vertical-align: middle;\n",
       "    }\n",
       "\n",
       "    .dataframe tbody tr th {\n",
       "        vertical-align: top;\n",
       "    }\n",
       "\n",
       "    .dataframe thead th {\n",
       "        text-align: right;\n",
       "    }\n",
       "</style>\n",
       "<table border=\"1\" class=\"dataframe\">\n",
       "  <thead>\n",
       "    <tr style=\"text-align: right;\">\n",
       "      <th></th>\n",
       "      <th>PredictionString</th>\n",
       "    </tr>\n",
       "    <tr>\n",
       "      <th>example_id</th>\n",
       "      <th></th>\n",
       "    </tr>\n",
       "  </thead>\n",
       "  <tbody>\n",
       "    <tr>\n",
       "      <th>-1074129516932871805_short</th>\n",
       "      <td>3153:3155</td>\n",
       "    </tr>\n",
       "    <tr>\n",
       "      <th>-1521618734431802363_short</th>\n",
       "      <td>1130:1131</td>\n",
       "    </tr>\n",
       "    <tr>\n",
       "      <th>-1636829004676923357_short</th>\n",
       "      <td>2159:2165</td>\n",
       "    </tr>\n",
       "    <tr>\n",
       "      <th>-1883092661126100958_short</th>\n",
       "      <td>172:174</td>\n",
       "    </tr>\n",
       "    <tr>\n",
       "      <th>-196591140811642071_short</th>\n",
       "      <td>795:798</td>\n",
       "    </tr>\n",
       "    <tr>\n",
       "      <th>...</th>\n",
       "      <td>...</td>\n",
       "    </tr>\n",
       "    <tr>\n",
       "      <th>8838160678370847582_short</th>\n",
       "      <td>3626:3630</td>\n",
       "    </tr>\n",
       "    <tr>\n",
       "      <th>8847717112932520020_short</th>\n",
       "      <td>1595:1598</td>\n",
       "    </tr>\n",
       "    <tr>\n",
       "      <th>8898704006223012351_short</th>\n",
       "      <td>292:293</td>\n",
       "    </tr>\n",
       "    <tr>\n",
       "      <th>8994564890124107395_short</th>\n",
       "      <td>378:392</td>\n",
       "    </tr>\n",
       "    <tr>\n",
       "      <th>930196817123445627_short</th>\n",
       "      <td>2583:2586</td>\n",
       "    </tr>\n",
       "  </tbody>\n",
       "</table>\n",
       "<p>116 rows × 1 columns</p>\n",
       "</div>"
      ],
      "text/plain": [
       "                           PredictionString\n",
       "example_id                                 \n",
       "-1074129516932871805_short        3153:3155\n",
       "-1521618734431802363_short        1130:1131\n",
       "-1636829004676923357_short        2159:2165\n",
       "-1883092661126100958_short          172:174\n",
       "-196591140811642071_short           795:798\n",
       "...                                     ...\n",
       "8838160678370847582_short         3626:3630\n",
       "8847717112932520020_short         1595:1598\n",
       "8898704006223012351_short           292:293\n",
       "8994564890124107395_short           378:392\n",
       "930196817123445627_short          2583:2586\n",
       "\n",
       "[116 rows x 1 columns]"
      ]
     },
     "execution_count": 78,
     "metadata": {},
     "output_type": "execute_result"
    }
   ],
   "source": [
    "short_answers = sample_submission.iloc[np.array(range(0, len(sample_submission), 2)) + 1]\n",
    "short_answers[short_answers['PredictionString'] != '']"
   ]
  },
  {
   "cell_type": "code",
   "execution_count": 79,
   "metadata": {},
   "outputs": [
    {
     "data": {
      "text/html": [
       "<div>\n",
       "<style scoped>\n",
       "    .dataframe tbody tr th:only-of-type {\n",
       "        vertical-align: middle;\n",
       "    }\n",
       "\n",
       "    .dataframe tbody tr th {\n",
       "        vertical-align: top;\n",
       "    }\n",
       "\n",
       "    .dataframe thead th {\n",
       "        text-align: right;\n",
       "    }\n",
       "</style>\n",
       "<table border=\"1\" class=\"dataframe\">\n",
       "  <thead>\n",
       "    <tr style=\"text-align: right;\">\n",
       "      <th></th>\n",
       "      <th>PredictionString</th>\n",
       "    </tr>\n",
       "    <tr>\n",
       "      <th>example_id</th>\n",
       "      <th></th>\n",
       "    </tr>\n",
       "  </thead>\n",
       "  <tbody>\n",
       "    <tr>\n",
       "      <th>-1011141123527297803_long</th>\n",
       "      <td>223:277</td>\n",
       "    </tr>\n",
       "    <tr>\n",
       "      <th>-1055197305756217938_long</th>\n",
       "      <td>221:335</td>\n",
       "    </tr>\n",
       "    <tr>\n",
       "      <th>-1074129516932871805_long</th>\n",
       "      <td>3119:3210</td>\n",
       "    </tr>\n",
       "    <tr>\n",
       "      <th>-1237358188352001279_long</th>\n",
       "      <td>583:683</td>\n",
       "    </tr>\n",
       "    <tr>\n",
       "      <th>-1521618734431802363_long</th>\n",
       "      <td>1118:1250</td>\n",
       "    </tr>\n",
       "    <tr>\n",
       "      <th>...</th>\n",
       "      <td>...</td>\n",
       "    </tr>\n",
       "    <tr>\n",
       "      <th>8994564890124107395_long</th>\n",
       "      <td>350:466</td>\n",
       "    </tr>\n",
       "    <tr>\n",
       "      <th>900126738178451873_long</th>\n",
       "      <td>640:706</td>\n",
       "    </tr>\n",
       "    <tr>\n",
       "      <th>9204032098950736962_long</th>\n",
       "      <td>2086:2221</td>\n",
       "    </tr>\n",
       "    <tr>\n",
       "      <th>9212083134098244596_long</th>\n",
       "      <td>168:241</td>\n",
       "    </tr>\n",
       "    <tr>\n",
       "      <th>930196817123445627_long</th>\n",
       "      <td>2559:2665</td>\n",
       "    </tr>\n",
       "  </tbody>\n",
       "</table>\n",
       "<p>191 rows × 1 columns</p>\n",
       "</div>"
      ],
      "text/plain": [
       "                          PredictionString\n",
       "example_id                                \n",
       "-1011141123527297803_long          223:277\n",
       "-1055197305756217938_long          221:335\n",
       "-1074129516932871805_long        3119:3210\n",
       "-1237358188352001279_long          583:683\n",
       "-1521618734431802363_long        1118:1250\n",
       "...                                    ...\n",
       "8994564890124107395_long           350:466\n",
       "900126738178451873_long            640:706\n",
       "9204032098950736962_long         2086:2221\n",
       "9212083134098244596_long           168:241\n",
       "930196817123445627_long          2559:2665\n",
       "\n",
       "[191 rows x 1 columns]"
      ]
     },
     "execution_count": 79,
     "metadata": {},
     "output_type": "execute_result"
    }
   ],
   "source": [
    "long_answers = sample_submission.iloc[np.array(range(0, len(sample_submission), 2)) + 0]\n",
    "long_answers[long_answers['PredictionString'] != '']"
   ]
  },
  {
   "cell_type": "markdown",
   "metadata": {
    "pycharm": {
     "name": "#%% md\n"
    }
   },
   "source": [
    "### I am only sharing modifications that I believe may help. I left out Tunning and any significant code changes I made.\n",
    "\n",
    "### We'll be grateful if someone gets a better understanding and can share what really impacts the assessment. No need to share code, just knowledge.\n",
    "### Thank you!"
   ]
  }
 ],
 "metadata": {
  "kernelspec": {
   "display_name": "Python 3",
   "language": "python",
   "name": "python3"
  },
  "language_info": {
   "codemirror_mode": {
    "name": "ipython",
    "version": 3
   },
   "file_extension": ".py",
   "mimetype": "text/x-python",
   "name": "python",
   "nbconvert_exporter": "python",
   "pygments_lexer": "ipython3",
   "version": "3.5.3"
  },
  "pycharm": {
   "stem_cell": {
    "cell_type": "raw",
    "source": [],
    "metadata": {
     "collapsed": false
    }
   }
  },
  "widgets": {
   "application/vnd.jupyter.widget-state+json": {
    "state": {
     "06fff95b6cc340239449f11d1060e097": {
      "model_module": "@jupyter-widgets/controls",
      "model_module_version": "1.5.0",
      "model_name": "ProgressStyleModel",
      "state": {
       "_model_module": "@jupyter-widgets/controls",
       "_model_module_version": "1.5.0",
       "_model_name": "ProgressStyleModel",
       "_view_count": null,
       "_view_module": "@jupyter-widgets/base",
       "_view_module_version": "1.2.0",
       "_view_name": "StyleView",
       "bar_color": null,
       "description_width": "initial"
      }
     },
     "0c2db7a1e2074f4096aec672d52a3e08": {
      "model_module": "@jupyter-widgets/base",
      "model_module_version": "1.2.0",
      "model_name": "LayoutModel",
      "state": {
       "_model_module": "@jupyter-widgets/base",
       "_model_module_version": "1.2.0",
       "_model_name": "LayoutModel",
       "_view_count": null,
       "_view_module": "@jupyter-widgets/base",
       "_view_module_version": "1.2.0",
       "_view_name": "LayoutView",
       "align_content": null,
       "align_items": null,
       "align_self": null,
       "border": null,
       "bottom": null,
       "display": null,
       "flex": null,
       "flex_flow": null,
       "grid_area": null,
       "grid_auto_columns": null,
       "grid_auto_flow": null,
       "grid_auto_rows": null,
       "grid_column": null,
       "grid_gap": null,
       "grid_row": null,
       "grid_template_areas": null,
       "grid_template_columns": null,
       "grid_template_rows": null,
       "height": null,
       "justify_content": null,
       "justify_items": null,
       "left": null,
       "margin": null,
       "max_height": null,
       "max_width": null,
       "min_height": null,
       "min_width": null,
       "object_fit": null,
       "object_position": null,
       "order": null,
       "overflow": null,
       "overflow_x": null,
       "overflow_y": null,
       "padding": null,
       "right": null,
       "top": null,
       "visibility": null,
       "width": null
      }
     },
     "0e734e39a0754636b5f2193575e3d8b6": {
      "model_module": "@jupyter-widgets/controls",
      "model_module_version": "1.5.0",
      "model_name": "HBoxModel",
      "state": {
       "_dom_classes": [],
       "_model_module": "@jupyter-widgets/controls",
       "_model_module_version": "1.5.0",
       "_model_name": "HBoxModel",
       "_view_count": null,
       "_view_module": "@jupyter-widgets/controls",
       "_view_module_version": "1.5.0",
       "_view_name": "HBoxView",
       "box_style": "",
       "children": [
        "IPY_MODEL_ca6193c9fabf489683c750d0a9c877fb",
        "IPY_MODEL_1451fc8619494bfdaac9a40e7cce6a04"
       ],
       "layout": "IPY_MODEL_0c2db7a1e2074f4096aec672d52a3e08"
      }
     },
     "1451fc8619494bfdaac9a40e7cce6a04": {
      "model_module": "@jupyter-widgets/controls",
      "model_module_version": "1.5.0",
      "model_name": "HTMLModel",
      "state": {
       "_dom_classes": [],
       "_model_module": "@jupyter-widgets/controls",
       "_model_module_version": "1.5.0",
       "_model_name": "HTMLModel",
       "_view_count": null,
       "_view_module": "@jupyter-widgets/controls",
       "_view_module_version": "1.5.0",
       "_view_name": "HTMLView",
       "description": "",
       "description_tooltip": null,
       "layout": "IPY_MODEL_aab933fc702a4c82b9cf292f0ae708a5",
       "placeholder": "​",
       "style": "IPY_MODEL_4546858d1472442aada8d8ff553cc1e8",
       "value": " 346/346 [01:55&lt;00:00,  3.00it/s]"
      }
     },
     "2b3ced532ade4c69aa4f0e197df89803": {
      "model_module": "@jupyter-widgets/controls",
      "model_module_version": "1.5.0",
      "model_name": "IntProgressModel",
      "state": {
       "_dom_classes": [],
       "_model_module": "@jupyter-widgets/controls",
       "_model_module_version": "1.5.0",
       "_model_name": "IntProgressModel",
       "_view_count": null,
       "_view_module": "@jupyter-widgets/controls",
       "_view_module_version": "1.5.0",
       "_view_name": "ProgressView",
       "bar_style": "success",
       "description": "",
       "description_tooltip": null,
       "layout": "IPY_MODEL_2db195f53efd410389fd83991ea1585d",
       "max": 1,
       "min": 0,
       "orientation": "horizontal",
       "style": "IPY_MODEL_06fff95b6cc340239449f11d1060e097",
       "value": 1
      }
     },
     "2db195f53efd410389fd83991ea1585d": {
      "model_module": "@jupyter-widgets/base",
      "model_module_version": "1.2.0",
      "model_name": "LayoutModel",
      "state": {
       "_model_module": "@jupyter-widgets/base",
       "_model_module_version": "1.2.0",
       "_model_name": "LayoutModel",
       "_view_count": null,
       "_view_module": "@jupyter-widgets/base",
       "_view_module_version": "1.2.0",
       "_view_name": "LayoutView",
       "align_content": null,
       "align_items": null,
       "align_self": null,
       "border": null,
       "bottom": null,
       "display": null,
       "flex": null,
       "flex_flow": null,
       "grid_area": null,
       "grid_auto_columns": null,
       "grid_auto_flow": null,
       "grid_auto_rows": null,
       "grid_column": null,
       "grid_gap": null,
       "grid_row": null,
       "grid_template_areas": null,
       "grid_template_columns": null,
       "grid_template_rows": null,
       "height": null,
       "justify_content": null,
       "justify_items": null,
       "left": null,
       "margin": null,
       "max_height": null,
       "max_width": null,
       "min_height": null,
       "min_width": null,
       "object_fit": null,
       "object_position": null,
       "order": null,
       "overflow": null,
       "overflow_x": null,
       "overflow_y": null,
       "padding": null,
       "right": null,
       "top": null,
       "visibility": null,
       "width": null
      }
     },
     "4546858d1472442aada8d8ff553cc1e8": {
      "model_module": "@jupyter-widgets/controls",
      "model_module_version": "1.5.0",
      "model_name": "DescriptionStyleModel",
      "state": {
       "_model_module": "@jupyter-widgets/controls",
       "_model_module_version": "1.5.0",
       "_model_name": "DescriptionStyleModel",
       "_view_count": null,
       "_view_module": "@jupyter-widgets/base",
       "_view_module_version": "1.2.0",
       "_view_name": "StyleView",
       "description_width": ""
      }
     },
     "6d9132431c4647b79893635206a176bc": {
      "model_module": "@jupyter-widgets/controls",
      "model_module_version": "1.5.0",
      "model_name": "ProgressStyleModel",
      "state": {
       "_model_module": "@jupyter-widgets/controls",
       "_model_module_version": "1.5.0",
       "_model_name": "ProgressStyleModel",
       "_view_count": null,
       "_view_module": "@jupyter-widgets/base",
       "_view_module_version": "1.2.0",
       "_view_name": "StyleView",
       "bar_color": null,
       "description_width": "initial"
      }
     },
     "7a49b5939439474ead1f620acce174df": {
      "model_module": "@jupyter-widgets/controls",
      "model_module_version": "1.5.0",
      "model_name": "DescriptionStyleModel",
      "state": {
       "_model_module": "@jupyter-widgets/controls",
       "_model_module_version": "1.5.0",
       "_model_name": "DescriptionStyleModel",
       "_view_count": null,
       "_view_module": "@jupyter-widgets/base",
       "_view_module_version": "1.2.0",
       "_view_name": "StyleView",
       "description_width": ""
      }
     },
     "7b05bdead505490cb39106da423d9d83": {
      "model_module": "@jupyter-widgets/base",
      "model_module_version": "1.2.0",
      "model_name": "LayoutModel",
      "state": {
       "_model_module": "@jupyter-widgets/base",
       "_model_module_version": "1.2.0",
       "_model_name": "LayoutModel",
       "_view_count": null,
       "_view_module": "@jupyter-widgets/base",
       "_view_module_version": "1.2.0",
       "_view_name": "LayoutView",
       "align_content": null,
       "align_items": null,
       "align_self": null,
       "border": null,
       "bottom": null,
       "display": null,
       "flex": null,
       "flex_flow": null,
       "grid_area": null,
       "grid_auto_columns": null,
       "grid_auto_flow": null,
       "grid_auto_rows": null,
       "grid_column": null,
       "grid_gap": null,
       "grid_row": null,
       "grid_template_areas": null,
       "grid_template_columns": null,
       "grid_template_rows": null,
       "height": null,
       "justify_content": null,
       "justify_items": null,
       "left": null,
       "margin": null,
       "max_height": null,
       "max_width": null,
       "min_height": null,
       "min_width": null,
       "object_fit": null,
       "object_position": null,
       "order": null,
       "overflow": null,
       "overflow_x": null,
       "overflow_y": null,
       "padding": null,
       "right": null,
       "top": null,
       "visibility": null,
       "width": null
      }
     },
     "86665893dbea4fc186fc600b0f54046c": {
      "model_module": "@jupyter-widgets/base",
      "model_module_version": "1.2.0",
      "model_name": "LayoutModel",
      "state": {
       "_model_module": "@jupyter-widgets/base",
       "_model_module_version": "1.2.0",
       "_model_name": "LayoutModel",
       "_view_count": null,
       "_view_module": "@jupyter-widgets/base",
       "_view_module_version": "1.2.0",
       "_view_name": "LayoutView",
       "align_content": null,
       "align_items": null,
       "align_self": null,
       "border": null,
       "bottom": null,
       "display": null,
       "flex": null,
       "flex_flow": null,
       "grid_area": null,
       "grid_auto_columns": null,
       "grid_auto_flow": null,
       "grid_auto_rows": null,
       "grid_column": null,
       "grid_gap": null,
       "grid_row": null,
       "grid_template_areas": null,
       "grid_template_columns": null,
       "grid_template_rows": null,
       "height": null,
       "justify_content": null,
       "justify_items": null,
       "left": null,
       "margin": null,
       "max_height": null,
       "max_width": null,
       "min_height": null,
       "min_width": null,
       "object_fit": null,
       "object_position": null,
       "order": null,
       "overflow": null,
       "overflow_x": null,
       "overflow_y": null,
       "padding": null,
       "right": null,
       "top": null,
       "visibility": null,
       "width": null
      }
     },
     "936ef0af5bb543bc86b264c983f62c8f": {
      "model_module": "@jupyter-widgets/controls",
      "model_module_version": "1.5.0",
      "model_name": "HTMLModel",
      "state": {
       "_dom_classes": [],
       "_model_module": "@jupyter-widgets/controls",
       "_model_module_version": "1.5.0",
       "_model_name": "HTMLModel",
       "_view_count": null,
       "_view_module": "@jupyter-widgets/controls",
       "_view_module_version": "1.5.0",
       "_view_name": "HTMLView",
       "description": "",
       "description_tooltip": null,
       "layout": "IPY_MODEL_86665893dbea4fc186fc600b0f54046c",
       "placeholder": "​",
       "style": "IPY_MODEL_7a49b5939439474ead1f620acce174df",
       "value": " 346/? [02:47&lt;00:00,  2.06it/s]"
      }
     },
     "aab933fc702a4c82b9cf292f0ae708a5": {
      "model_module": "@jupyter-widgets/base",
      "model_module_version": "1.2.0",
      "model_name": "LayoutModel",
      "state": {
       "_model_module": "@jupyter-widgets/base",
       "_model_module_version": "1.2.0",
       "_model_name": "LayoutModel",
       "_view_count": null,
       "_view_module": "@jupyter-widgets/base",
       "_view_module_version": "1.2.0",
       "_view_name": "LayoutView",
       "align_content": null,
       "align_items": null,
       "align_self": null,
       "border": null,
       "bottom": null,
       "display": null,
       "flex": null,
       "flex_flow": null,
       "grid_area": null,
       "grid_auto_columns": null,
       "grid_auto_flow": null,
       "grid_auto_rows": null,
       "grid_column": null,
       "grid_gap": null,
       "grid_row": null,
       "grid_template_areas": null,
       "grid_template_columns": null,
       "grid_template_rows": null,
       "height": null,
       "justify_content": null,
       "justify_items": null,
       "left": null,
       "margin": null,
       "max_height": null,
       "max_width": null,
       "min_height": null,
       "min_width": null,
       "object_fit": null,
       "object_position": null,
       "order": null,
       "overflow": null,
       "overflow_x": null,
       "overflow_y": null,
       "padding": null,
       "right": null,
       "top": null,
       "visibility": null,
       "width": null
      }
     },
     "b3ea3f63f9e041d9925dfa48d507177b": {
      "model_module": "@jupyter-widgets/base",
      "model_module_version": "1.2.0",
      "model_name": "LayoutModel",
      "state": {
       "_model_module": "@jupyter-widgets/base",
       "_model_module_version": "1.2.0",
       "_model_name": "LayoutModel",
       "_view_count": null,
       "_view_module": "@jupyter-widgets/base",
       "_view_module_version": "1.2.0",
       "_view_name": "LayoutView",
       "align_content": null,
       "align_items": null,
       "align_self": null,
       "border": null,
       "bottom": null,
       "display": null,
       "flex": null,
       "flex_flow": null,
       "grid_area": null,
       "grid_auto_columns": null,
       "grid_auto_flow": null,
       "grid_auto_rows": null,
       "grid_column": null,
       "grid_gap": null,
       "grid_row": null,
       "grid_template_areas": null,
       "grid_template_columns": null,
       "grid_template_rows": null,
       "height": null,
       "justify_content": null,
       "justify_items": null,
       "left": null,
       "margin": null,
       "max_height": null,
       "max_width": null,
       "min_height": null,
       "min_width": null,
       "object_fit": null,
       "object_position": null,
       "order": null,
       "overflow": null,
       "overflow_x": null,
       "overflow_y": null,
       "padding": null,
       "right": null,
       "top": null,
       "visibility": null,
       "width": null
      }
     },
     "b4d39305a5624fb49c285f0dfb4ad976": {
      "model_module": "@jupyter-widgets/controls",
      "model_module_version": "1.5.0",
      "model_name": "HBoxModel",
      "state": {
       "_dom_classes": [],
       "_model_module": "@jupyter-widgets/controls",
       "_model_module_version": "1.5.0",
       "_model_name": "HBoxModel",
       "_view_count": null,
       "_view_module": "@jupyter-widgets/controls",
       "_view_module_version": "1.5.0",
       "_view_name": "HBoxView",
       "box_style": "",
       "children": [
        "IPY_MODEL_2b3ced532ade4c69aa4f0e197df89803",
        "IPY_MODEL_936ef0af5bb543bc86b264c983f62c8f"
       ],
       "layout": "IPY_MODEL_7b05bdead505490cb39106da423d9d83"
      }
     },
     "ca6193c9fabf489683c750d0a9c877fb": {
      "model_module": "@jupyter-widgets/controls",
      "model_module_version": "1.5.0",
      "model_name": "IntProgressModel",
      "state": {
       "_dom_classes": [],
       "_model_module": "@jupyter-widgets/controls",
       "_model_module_version": "1.5.0",
       "_model_name": "IntProgressModel",
       "_view_count": null,
       "_view_module": "@jupyter-widgets/controls",
       "_view_module_version": "1.5.0",
       "_view_name": "ProgressView",
       "bar_style": "success",
       "description": "100%",
       "description_tooltip": null,
       "layout": "IPY_MODEL_b3ea3f63f9e041d9925dfa48d507177b",
       "max": 346,
       "min": 0,
       "orientation": "horizontal",
       "style": "IPY_MODEL_6d9132431c4647b79893635206a176bc",
       "value": 346
      }
     }
    },
    "version_major": 2,
    "version_minor": 0
   }
  }
 },
 "nbformat": 4,
 "nbformat_minor": 4
}